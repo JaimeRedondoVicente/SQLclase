{
 "cells": [
  {
   "cell_type": "code",
   "execution_count": 6,
   "metadata": {},
   "outputs": [],
   "source": [
    "import pandas as pd\n",
    "import numpy as np"
   ]
  },
  {
   "cell_type": "code",
   "execution_count": 7,
   "metadata": {},
   "outputs": [
    {
     "name": "stdout",
     "output_type": "stream",
     "text": [
      "Connected to MySQL database... MySQL Server version on  8.0.34-26\n",
      "MySQL connection is closed\n"
     ]
    }
   ],
   "source": [
    "import mysql.connector # !pip install mysql-connector-python \n",
    "from mysql.connector import Error\n",
    "\n",
    "try: \n",
    "    connection = mysql.connector.connect()\n",
    "\n",
    "    if connection.is_connected():\n",
    "        db_Info = connection.get_server_info()\n",
    "        print(\"Connected to MySQL database... MySQL Server version on \", db_Info)\n",
    "\n",
    "        cursor = connection.cursor()\n",
    "        connection.commit()\n",
    "\n",
    "except Error as e:\n",
    "    print(\"Error while connecting to MySQL\", e)\n",
    "finally:\n",
    "    # closing database connection.\n",
    "    if connection.is_connected():\n",
    "        cursor.close()\n",
    "        connection.close()\n",
    "        print(\"MySQL connection is closed\")"
   ]
  },
  {
   "cell_type": "markdown",
   "metadata": {},
   "source": [
    "#### 1. Listar todos los productos."
   ]
  },
  {
   "cell_type": "code",
   "execution_count": 8,
   "metadata": {},
   "outputs": [
    {
     "data": {
      "text/plain": [
       "[('01', 'Hamburguesa', 2.6),\n",
       " ('02', 'Patatas', 2.0),\n",
       " ('03', 'tomate', 0.5),\n",
       " ('04', 'Queso', 1.0),\n",
       " ('05', 'Lechuga', 0.5),\n",
       " ('06', 'Pollo', 3.6),\n",
       " ('08', 'Bacon', 1.5),\n",
       " ('09', 'Coca cola', 3.0),\n",
       " ('10', 'Nestea', 3.0),\n",
       " ('11', 'Menú de Pollo', 5.0),\n",
       " ('12', 'Menú de Hamburguesa con queso', 6.0),\n",
       " ('13', 'Menú de Pollo con queso', 6.0),\n",
       " ('14', 'Menú de Hamburguesa', 6.0),\n",
       " ('15', 'Helado', 1.0),\n",
       " ('16', 'Tarta', 2.0),\n",
       " ('17', 'Fruta', 1.0),\n",
       " ('18', 'Agua', 2.0),\n",
       " ('19', 'Fanta', 3.0)]"
      ]
     },
     "execution_count": 8,
     "metadata": {},
     "output_type": "execute_result"
    }
   ],
   "source": [
    "connection = mysql.connector.connect(host='', database='', user='', password='', connection_timeout=)\n",
    "cursor=connection.cursor()\n",
    "query1 = \"\"\" SELECT * FROM PRODUCTO; \"\"\"\n",
    "cursor.execute(query1)\n",
    "cursor.fetchall()"
   ]
  },
  {
   "cell_type": "code",
   "execution_count": 16,
   "metadata": {},
   "outputs": [
    {
     "name": "stderr",
     "output_type": "stream",
     "text": [
      "C:\\Users\\Usuario\\AppData\\Local\\Temp\\ipykernel_13828\\2549563002.py:1: UserWarning: pandas only supports SQLAlchemy connectable (engine/connection) or database string URI or sqlite3 DBAPI2 connection. Other DBAPI2 objects are not tested. Please consider using SQLAlchemy.\n",
      "  df1 = pd.read_sql(query1, connection)\n"
     ]
    }
   ],
   "source": [
    "df1 = pd.read_sql(query1, connection)\n",
    "df1\n",
    "df1.to_csv('producto.csv', index=False)"
   ]
  },
  {
   "cell_type": "markdown",
   "metadata": {},
   "source": [
    "#### 2. Obtener los nombres de todos los empleados."
   ]
  },
  {
   "cell_type": "code",
   "execution_count": 10,
   "metadata": {},
   "outputs": [
    {
     "data": {
      "text/plain": [
       "[('María Luisa Galdón Ter',),\n",
       " ('Úrsula Delta Camacho',),\n",
       " ('Luis Ramírez Pardo',),\n",
       " ('Sergio Lérida Campos',),\n",
       " ('Piedad Colmenero Zapillo',),\n",
       " ('María Sánchez Cid',),\n",
       " ('Martín Guerrero López',),\n",
       " ('Carmen Hernández Pío',),\n",
       " ('Pedro Jiménez Ruiz',),\n",
       " ('Soledad Campillo Molina',),\n",
       " ('Raúl Rodrigo Roca',)]"
      ]
     },
     "execution_count": 10,
     "metadata": {},
     "output_type": "execute_result"
    }
   ],
   "source": [
    "connection = mysql.connector.connect(host='', database='', user='', password='', connection_timeout=)\n",
    "cursor=connection.cursor()\n",
    "query2 = \"\"\" SELECT Nombre FROM EMPLEADO;\"\"\"\n",
    "cursor.execute(query2)\n",
    "cursor.fetchall()"
   ]
  },
  {
   "cell_type": "code",
   "execution_count": 15,
   "metadata": {},
   "outputs": [
    {
     "name": "stderr",
     "output_type": "stream",
     "text": [
      "C:\\Users\\Usuario\\AppData\\Local\\Temp\\ipykernel_13828\\3555764202.py:3: UserWarning: pandas only supports SQLAlchemy connectable (engine/connection) or database string URI or sqlite3 DBAPI2 connection. Other DBAPI2 objects are not tested. Please consider using SQLAlchemy.\n",
      "  df2 = pd.read_sql(query2, connection)\n"
     ]
    }
   ],
   "source": [
    "df2 = pd.read_sql(query, connection)\n",
    "df2\n",
    "df2.to_csv('producto.csv', index=False)"
   ]
  },
  {
   "cell_type": "markdown",
   "metadata": {},
   "source": [
    "#### 3. Contar el número de pedidos realizados."
   ]
  },
  {
   "cell_type": "code",
   "execution_count": 13,
   "metadata": {},
   "outputs": [
    {
     "data": {
      "text/plain": [
       "[(11,)]"
      ]
     },
     "execution_count": 13,
     "metadata": {},
     "output_type": "execute_result"
    }
   ],
   "source": [
    "connection = mysql.connector.connect(host='', database='', user='', password='', connection_timeout=)\n",
    "cursor=connection.cursor()\n",
    "query3 = \"\"\" SELECT COUNT(*) AS numero_pedidos FROM PEDIDO;\"\"\"\n",
    "cursor.execute(query3)\n",
    "cursor.fetchall()"
   ]
  },
  {
   "cell_type": "code",
   "execution_count": 17,
   "metadata": {},
   "outputs": [
    {
     "name": "stderr",
     "output_type": "stream",
     "text": [
      "C:\\Users\\Usuario\\AppData\\Local\\Temp\\ipykernel_13828\\1954146373.py:3: UserWarning: pandas only supports SQLAlchemy connectable (engine/connection) or database string URI or sqlite3 DBAPI2 connection. Other DBAPI2 objects are not tested. Please consider using SQLAlchemy.\n",
      "  df3 = pd.read_sql(query3, connection)\n"
     ]
    }
   ],
   "source": [
    "connection = mysql.connector.connect(host='', database='', user='', password='', connection_timeout=)\n",
    "cursor=connection.cursor()\n",
    "df3 = pd.read_sql(query3, connection)\n",
    "df3\n",
    "df3.to_csv('numero_pedidos.csv', index=False)"
   ]
  },
  {
   "cell_type": "markdown",
   "metadata": {},
   "source": [
    "#### 4. Listar los repartidores que trabajan en el turno de tarde."
   ]
  },
  {
   "cell_type": "code",
   "execution_count": 20,
   "metadata": {},
   "outputs": [
    {
     "data": {
      "text/plain": [
       "[(11,)]"
      ]
     },
     "execution_count": 20,
     "metadata": {},
     "output_type": "execute_result"
    }
   ],
   "source": [
    "connection = mysql.connector.connect(host='', database='', user='', password='', connection_timeout=)\n",
    "cursor=connection.cursor()\n",
    "query4 = \"\"\" SELECT COUNT(*) AS numero_pedidos FROM PEDIDO;\"\"\"\n",
    "cursor.execute(query4)\n",
    "cursor.fetchall()\n",
    "df4 = pd.read_sql(query4, connection)\n",
    "df4\n",
    "## el siguiente comando convierte el dataframe a csv, con la intencion de no \n",
    "##generar muchos archivos a partide hora saldra solo comentado\n",
    "##df4.to_csv('listarepartidores.csv', index=False)"
   ]
  },
  {
   "cell_type": "markdown",
   "metadata": {},
   "source": [
    "#### 5. Encontrar el precio más alto de los productos."
   ]
  },
  {
   "cell_type": "code",
   "execution_count": null,
   "metadata": {},
   "outputs": [],
   "source": [
    "connection = mysql.connector.connect(host='', database='', user='', password='', connection_timeout=)\n",
    "cursor=connection.cursor()\n",
    "query5 = \"\"\" SELECT MAX(Precio) FROM PRODUCTO;\"\"\"\n",
    "cursor.execute(query5)\n",
    "cursor.fetchall()\n",
    "df5 = pd.read_sql(query5, connection)\n",
    "df5\n",
    "##df5.to_csv('listarepartidores.csv', index=False)"
   ]
  },
  {
   "cell_type": "markdown",
   "metadata": {},
   "source": [
    "#### 6. Mostrar todos los pedidos con un importe mayor a 100."
   ]
  },
  {
   "cell_type": "code",
   "execution_count": null,
   "metadata": {},
   "outputs": [],
   "source": [
    "connection = mysql.connector.connect(host='', database='', user='', password='', connection_timeout=)\n",
    "cursor=connection.cursor()\n",
    "query6 = \"\"\" SELECT * FROM PEDIDO WHERE Importe > 100;\"\"\"\n",
    "cursor.execute(query6)\n",
    "cursor.fetchall()\n",
    "df6 = pd.read_sql(query6, connection)\n",
    "df6\n",
    "##df6.to_csv('listarepartidores.csv', index=False)"
   ]
  },
  {
   "cell_type": "markdown",
   "metadata": {},
   "source": [
    "#### 7. Obtener el salario promedio de los empleados."
   ]
  },
  {
   "cell_type": "code",
   "execution_count": 23,
   "metadata": {},
   "outputs": [
    {
     "name": "stderr",
     "output_type": "stream",
     "text": [
      "C:\\Users\\Usuario\\AppData\\Local\\Temp\\ipykernel_13828\\3164764827.py:6: UserWarning: pandas only supports SQLAlchemy connectable (engine/connection) or database string URI or sqlite3 DBAPI2 connection. Other DBAPI2 objects are not tested. Please consider using SQLAlchemy.\n",
      "  df7 = pd.read_sql(query7, connection)\n"
     ]
    },
    {
     "data": {
      "text/html": [
       "<div>\n",
       "<style scoped>\n",
       "    .dataframe tbody tr th:only-of-type {\n",
       "        vertical-align: middle;\n",
       "    }\n",
       "\n",
       "    .dataframe tbody tr th {\n",
       "        vertical-align: top;\n",
       "    }\n",
       "\n",
       "    .dataframe thead th {\n",
       "        text-align: right;\n",
       "    }\n",
       "</style>\n",
       "<table border=\"1\" class=\"dataframe\">\n",
       "  <thead>\n",
       "    <tr style=\"text-align: right;\">\n",
       "      <th></th>\n",
       "      <th>salario_promedio</th>\n",
       "    </tr>\n",
       "  </thead>\n",
       "  <tbody>\n",
       "    <tr>\n",
       "      <th>0</th>\n",
       "      <td>1027.272727</td>\n",
       "    </tr>\n",
       "  </tbody>\n",
       "</table>\n",
       "</div>"
      ],
      "text/plain": [
       "   salario_promedio\n",
       "0       1027.272727"
      ]
     },
     "execution_count": 23,
     "metadata": {},
     "output_type": "execute_result"
    }
   ],
   "source": [
    "connection = mysql.connector.connect(host='', database='', user='', password='', connection_timeout=)\n",
    "cursor=connection.cursor()\n",
    "query7 = \"\"\" SELECT AVG(Salario) AS salario_promedio FROM EMPLEADO;\"\"\"\n",
    "cursor.execute(query7)\n",
    "cursor.fetchall()\n",
    "df7 = pd.read_sql(query7, connection)\n",
    "df7\n",
    "##df7.to_csv('listarepartidores.csv', index=False)"
   ]
  },
  {
   "cell_type": "markdown",
   "metadata": {},
   "source": [
    "#### 8. Listar los productos que tienen un nombre único (sin duplicados)."
   ]
  },
  {
   "cell_type": "code",
   "execution_count": 24,
   "metadata": {},
   "outputs": [
    {
     "name": "stderr",
     "output_type": "stream",
     "text": [
      "C:\\Users\\Usuario\\AppData\\Local\\Temp\\ipykernel_13828\\646702197.py:6: UserWarning: pandas only supports SQLAlchemy connectable (engine/connection) or database string URI or sqlite3 DBAPI2 connection. Other DBAPI2 objects are not tested. Please consider using SQLAlchemy.\n",
      "  df8 = pd.read_sql(query8, connection)\n"
     ]
    },
    {
     "data": {
      "text/html": [
       "<div>\n",
       "<style scoped>\n",
       "    .dataframe tbody tr th:only-of-type {\n",
       "        vertical-align: middle;\n",
       "    }\n",
       "\n",
       "    .dataframe tbody tr th {\n",
       "        vertical-align: top;\n",
       "    }\n",
       "\n",
       "    .dataframe thead th {\n",
       "        text-align: right;\n",
       "    }\n",
       "</style>\n",
       "<table border=\"1\" class=\"dataframe\">\n",
       "  <thead>\n",
       "    <tr style=\"text-align: right;\">\n",
       "      <th></th>\n",
       "      <th>Nombre</th>\n",
       "    </tr>\n",
       "  </thead>\n",
       "  <tbody>\n",
       "    <tr>\n",
       "      <th>0</th>\n",
       "      <td>Agua</td>\n",
       "    </tr>\n",
       "    <tr>\n",
       "      <th>1</th>\n",
       "      <td>Bacon</td>\n",
       "    </tr>\n",
       "    <tr>\n",
       "      <th>2</th>\n",
       "      <td>Coca cola</td>\n",
       "    </tr>\n",
       "    <tr>\n",
       "      <th>3</th>\n",
       "      <td>Fanta</td>\n",
       "    </tr>\n",
       "    <tr>\n",
       "      <th>4</th>\n",
       "      <td>Fruta</td>\n",
       "    </tr>\n",
       "    <tr>\n",
       "      <th>5</th>\n",
       "      <td>Hamburguesa</td>\n",
       "    </tr>\n",
       "    <tr>\n",
       "      <th>6</th>\n",
       "      <td>Helado</td>\n",
       "    </tr>\n",
       "    <tr>\n",
       "      <th>7</th>\n",
       "      <td>Lechuga</td>\n",
       "    </tr>\n",
       "    <tr>\n",
       "      <th>8</th>\n",
       "      <td>Menú de Hamburguesa</td>\n",
       "    </tr>\n",
       "    <tr>\n",
       "      <th>9</th>\n",
       "      <td>Menú de Hamburguesa con queso</td>\n",
       "    </tr>\n",
       "    <tr>\n",
       "      <th>10</th>\n",
       "      <td>Menú de Pollo</td>\n",
       "    </tr>\n",
       "    <tr>\n",
       "      <th>11</th>\n",
       "      <td>Menú de Pollo con queso</td>\n",
       "    </tr>\n",
       "    <tr>\n",
       "      <th>12</th>\n",
       "      <td>Nestea</td>\n",
       "    </tr>\n",
       "    <tr>\n",
       "      <th>13</th>\n",
       "      <td>Patatas</td>\n",
       "    </tr>\n",
       "    <tr>\n",
       "      <th>14</th>\n",
       "      <td>Pollo</td>\n",
       "    </tr>\n",
       "    <tr>\n",
       "      <th>15</th>\n",
       "      <td>Queso</td>\n",
       "    </tr>\n",
       "    <tr>\n",
       "      <th>16</th>\n",
       "      <td>Tarta</td>\n",
       "    </tr>\n",
       "    <tr>\n",
       "      <th>17</th>\n",
       "      <td>tomate</td>\n",
       "    </tr>\n",
       "  </tbody>\n",
       "</table>\n",
       "</div>"
      ],
      "text/plain": [
       "                           Nombre\n",
       "0                            Agua\n",
       "1                           Bacon\n",
       "2                       Coca cola\n",
       "3                           Fanta\n",
       "4                           Fruta\n",
       "5                     Hamburguesa\n",
       "6                          Helado\n",
       "7                         Lechuga\n",
       "8             Menú de Hamburguesa\n",
       "9   Menú de Hamburguesa con queso\n",
       "10                  Menú de Pollo\n",
       "11        Menú de Pollo con queso\n",
       "12                         Nestea\n",
       "13                        Patatas\n",
       "14                          Pollo\n",
       "15                          Queso\n",
       "16                          Tarta\n",
       "17                         tomate"
      ]
     },
     "execution_count": 24,
     "metadata": {},
     "output_type": "execute_result"
    }
   ],
   "source": [
    "connection = mysql.connector.connect(host='', database='', user='', password='', connection_timeout=)\n",
    "cursor=connection.cursor()\n",
    "query8 = \"\"\" SELECT DISTINCT Nombre FROM PRODUCTO;\"\"\"\n",
    "cursor.execute(query8)\n",
    "cursor.fetchall()\n",
    "df8 = pd.read_sql(query8, connection)\n",
    "df8\n",
    "##df8.to_csv('listarepartidores.csv', index=False)"
   ]
  },
  {
   "cell_type": "markdown",
   "metadata": {},
   "source": [
    "#### 9. Mostrar el número y la fecha de todos los pedidos realizados en el último mes."
   ]
  },
  {
   "cell_type": "code",
   "execution_count": 30,
   "metadata": {},
   "outputs": [
    {
     "data": {
      "text/plain": [
       "[]"
      ]
     },
     "execution_count": 30,
     "metadata": {},
     "output_type": "execute_result"
    }
   ],
   "source": [
    "connection = mysql.connector.connect(host='', database='', user='', password='', connection_timeout=)\n",
    "cursor=connection.cursor()\n",
    "query9 = \"\"\" SELECT Numero, Fecha FROM PEDIDO\n",
    "WHERE YEAR(Fecha) = YEAR(CURRENT_DATE - INTERVAL 1 MONTH) AND MONTH(Fecha) = MONTH(CURRENT_DATE - INTERVAL 1 MONTH);\n",
    "SELECT Numero, Fecha FROM PEDIDO WHERE Fecha >= DATE_SUB(CURDATE(), INTERVAL 1 MONTH);\"\"\"\n",
    "cursor.execute(query9)\n",
    "cursor.fetchall()\n"
   ]
  },
  {
   "cell_type": "code",
   "execution_count": 31,
   "metadata": {},
   "outputs": [
    {
     "name": "stderr",
     "output_type": "stream",
     "text": [
      "C:\\Users\\Usuario\\AppData\\Local\\Temp\\ipykernel_13828\\3871207369.py:3: UserWarning: pandas only supports SQLAlchemy connectable (engine/connection) or database string URI or sqlite3 DBAPI2 connection. Other DBAPI2 objects are not tested. Please consider using SQLAlchemy.\n",
      "  df9 = pd.read_sql(query9, connection)\n"
     ]
    },
    {
     "data": {
      "text/html": [
       "<div>\n",
       "<style scoped>\n",
       "    .dataframe tbody tr th:only-of-type {\n",
       "        vertical-align: middle;\n",
       "    }\n",
       "\n",
       "    .dataframe tbody tr th {\n",
       "        vertical-align: top;\n",
       "    }\n",
       "\n",
       "    .dataframe thead th {\n",
       "        text-align: right;\n",
       "    }\n",
       "</style>\n",
       "<table border=\"1\" class=\"dataframe\">\n",
       "  <thead>\n",
       "    <tr style=\"text-align: right;\">\n",
       "      <th></th>\n",
       "      <th>Numero</th>\n",
       "      <th>Fecha</th>\n",
       "    </tr>\n",
       "  </thead>\n",
       "  <tbody>\n",
       "  </tbody>\n",
       "</table>\n",
       "</div>"
      ],
      "text/plain": [
       "Empty DataFrame\n",
       "Columns: [Numero, Fecha]\n",
       "Index: []"
      ]
     },
     "execution_count": 31,
     "metadata": {},
     "output_type": "execute_result"
    }
   ],
   "source": [
    "connection = mysql.connector.connect(host='', database='', user='', password='', connection_timeout=)\n",
    "cursor=connection.cursor()\n",
    "df9 = pd.read_sql(query9, connection)\n",
    "df9\n",
    "##df9.to_csv('listarepartidores.csv', index=False)"
   ]
  },
  {
   "cell_type": "markdown",
   "metadata": {},
   "source": [
    "#### 10. Encontrar el empleado con el salario más bajo."
   ]
  },
  {
   "cell_type": "code",
   "execution_count": 32,
   "metadata": {},
   "outputs": [
    {
     "data": {
      "text/plain": [
       "[('55555555J', 'Carmen Hernández Pío', '99966633311', 'mañana', 900.0),\n",
       " ('04444444T', 'Úrsula Delta Camacho', '11177788899', 'mañana', 900.0),\n",
       " ('11111111Q', 'Luis Ramírez Pardo', '23445556666', 'mañana', 900.0)]"
      ]
     },
     "execution_count": 32,
     "metadata": {},
     "output_type": "execute_result"
    }
   ],
   "source": [
    "connection = mysql.connector.connect(host='', database='', user='', password='', connection_timeout=)\n",
    "cursor=connection.cursor()\n",
    "query10 = \"\"\" SELECT * FROM EMPLEADO ORDER BY Salario LIMIT 3;\"\"\"\n",
    "cursor.execute(query10)\n",
    "cursor.fetchall()"
   ]
  },
  {
   "cell_type": "code",
   "execution_count": 34,
   "metadata": {},
   "outputs": [
    {
     "name": "stderr",
     "output_type": "stream",
     "text": [
      "C:\\Users\\Usuario\\AppData\\Local\\Temp\\ipykernel_13828\\2320496520.py:3: UserWarning: pandas only supports SQLAlchemy connectable (engine/connection) or database string URI or sqlite3 DBAPI2 connection. Other DBAPI2 objects are not tested. Please consider using SQLAlchemy.\n",
      "  df10 = pd.read_sql(query10, connection)\n"
     ]
    },
    {
     "data": {
      "text/html": [
       "<div>\n",
       "<style scoped>\n",
       "    .dataframe tbody tr th:only-of-type {\n",
       "        vertical-align: middle;\n",
       "    }\n",
       "\n",
       "    .dataframe tbody tr th {\n",
       "        vertical-align: top;\n",
       "    }\n",
       "\n",
       "    .dataframe thead th {\n",
       "        text-align: right;\n",
       "    }\n",
       "</style>\n",
       "<table border=\"1\" class=\"dataframe\">\n",
       "  <thead>\n",
       "    <tr style=\"text-align: right;\">\n",
       "      <th></th>\n",
       "      <th>DNI</th>\n",
       "      <th>Nombre</th>\n",
       "      <th>Nss</th>\n",
       "      <th>Turno</th>\n",
       "      <th>Salario</th>\n",
       "    </tr>\n",
       "  </thead>\n",
       "  <tbody>\n",
       "    <tr>\n",
       "      <th>0</th>\n",
       "      <td>55555555J</td>\n",
       "      <td>Carmen Hernández Pío</td>\n",
       "      <td>99966633311</td>\n",
       "      <td>mañana</td>\n",
       "      <td>900.0</td>\n",
       "    </tr>\n",
       "    <tr>\n",
       "      <th>1</th>\n",
       "      <td>04444444T</td>\n",
       "      <td>Úrsula Delta Camacho</td>\n",
       "      <td>11177788899</td>\n",
       "      <td>mañana</td>\n",
       "      <td>900.0</td>\n",
       "    </tr>\n",
       "    <tr>\n",
       "      <th>2</th>\n",
       "      <td>11111111Q</td>\n",
       "      <td>Luis Ramírez Pardo</td>\n",
       "      <td>23445556666</td>\n",
       "      <td>mañana</td>\n",
       "      <td>900.0</td>\n",
       "    </tr>\n",
       "  </tbody>\n",
       "</table>\n",
       "</div>"
      ],
      "text/plain": [
       "         DNI                Nombre          Nss   Turno  Salario\n",
       "0  55555555J  Carmen Hernández Pío  99966633311  mañana    900.0\n",
       "1  04444444T  Úrsula Delta Camacho  11177788899  mañana    900.0\n",
       "2  11111111Q    Luis Ramírez Pardo  23445556666  mañana    900.0"
      ]
     },
     "execution_count": 34,
     "metadata": {},
     "output_type": "execute_result"
    }
   ],
   "source": [
    "connection = mysql.connector.connect(host='', database='', user='', password='', connection_timeout=)\n",
    "cursor=connection.cursor()\n",
    "df10 = pd.read_sql(query10, connection)\n",
    "df10\n",
    "##df10.to_csv('listarepartidores.csv', index=False)"
   ]
  },
  {
   "cell_type": "markdown",
   "metadata": {},
   "source": [
    "#### 11. Listar los productos y sus componentes."
   ]
  },
  {
   "cell_type": "code",
   "execution_count": 35,
   "metadata": {},
   "outputs": [
    {
     "data": {
      "text/plain": [
       "[(None, 'Hamburguesa', None),\n",
       " (None, 'Patatas', None),\n",
       " (None, 'tomate', None),\n",
       " (None, 'Queso', None),\n",
       " (None, 'Lechuga', None),\n",
       " (None, 'Pollo', None),\n",
       " (None, 'Bacon', None),\n",
       " (None, 'Coca cola', None),\n",
       " (None, 'Nestea', None),\n",
       " ('11', 'Menú de Pollo', '02,03,06,17,18'),\n",
       " ('12', 'Menú de Hamburguesa con queso', '01,02,04,10,16'),\n",
       " ('13', 'Menú de Pollo con queso', '02,04,06,08,09,15'),\n",
       " ('14', 'Menú de Hamburguesa', '01,02,03,05,08,09,15'),\n",
       " (None, 'Helado', None),\n",
       " (None, 'Tarta', None),\n",
       " (None, 'Fruta', None),\n",
       " (None, 'Agua', None),\n",
       " (None, 'Fanta', None)]"
      ]
     },
     "execution_count": 35,
     "metadata": {},
     "output_type": "execute_result"
    }
   ],
   "source": [
    "connection = mysql.connector.connect(host='', database='', user='', password='', connection_timeout=)\n",
    "cursor=connection.cursor()\n",
    "query11 = \"\"\" SELECT PC.Codigo_P, P.Nombre AS Producto, GROUP_CONCAT(PC.Codigo_P_compuesto) AS Componentes FROM PRODUCTO AS P\n",
    "LEFT JOIN esta_compuesto AS PC ON P.Codigo = PC.Codigo_P GROUP BY P.Codigo;\"\"\"\n",
    "cursor.execute(query11)\n",
    "cursor.fetchall()\n"
   ]
  },
  {
   "cell_type": "code",
   "execution_count": 36,
   "metadata": {},
   "outputs": [
    {
     "name": "stderr",
     "output_type": "stream",
     "text": [
      "C:\\Users\\Usuario\\AppData\\Local\\Temp\\ipykernel_13828\\21299915.py:3: UserWarning: pandas only supports SQLAlchemy connectable (engine/connection) or database string URI or sqlite3 DBAPI2 connection. Other DBAPI2 objects are not tested. Please consider using SQLAlchemy.\n",
      "  df11 = pd.read_sql(query11, connection)\n"
     ]
    },
    {
     "data": {
      "text/html": [
       "<div>\n",
       "<style scoped>\n",
       "    .dataframe tbody tr th:only-of-type {\n",
       "        vertical-align: middle;\n",
       "    }\n",
       "\n",
       "    .dataframe tbody tr th {\n",
       "        vertical-align: top;\n",
       "    }\n",
       "\n",
       "    .dataframe thead th {\n",
       "        text-align: right;\n",
       "    }\n",
       "</style>\n",
       "<table border=\"1\" class=\"dataframe\">\n",
       "  <thead>\n",
       "    <tr style=\"text-align: right;\">\n",
       "      <th></th>\n",
       "      <th>Codigo_P</th>\n",
       "      <th>Producto</th>\n",
       "      <th>Componentes</th>\n",
       "    </tr>\n",
       "  </thead>\n",
       "  <tbody>\n",
       "    <tr>\n",
       "      <th>0</th>\n",
       "      <td>None</td>\n",
       "      <td>Hamburguesa</td>\n",
       "      <td>None</td>\n",
       "    </tr>\n",
       "    <tr>\n",
       "      <th>1</th>\n",
       "      <td>None</td>\n",
       "      <td>Patatas</td>\n",
       "      <td>None</td>\n",
       "    </tr>\n",
       "    <tr>\n",
       "      <th>2</th>\n",
       "      <td>None</td>\n",
       "      <td>tomate</td>\n",
       "      <td>None</td>\n",
       "    </tr>\n",
       "    <tr>\n",
       "      <th>3</th>\n",
       "      <td>None</td>\n",
       "      <td>Queso</td>\n",
       "      <td>None</td>\n",
       "    </tr>\n",
       "    <tr>\n",
       "      <th>4</th>\n",
       "      <td>None</td>\n",
       "      <td>Lechuga</td>\n",
       "      <td>None</td>\n",
       "    </tr>\n",
       "    <tr>\n",
       "      <th>5</th>\n",
       "      <td>None</td>\n",
       "      <td>Pollo</td>\n",
       "      <td>None</td>\n",
       "    </tr>\n",
       "    <tr>\n",
       "      <th>6</th>\n",
       "      <td>None</td>\n",
       "      <td>Bacon</td>\n",
       "      <td>None</td>\n",
       "    </tr>\n",
       "    <tr>\n",
       "      <th>7</th>\n",
       "      <td>None</td>\n",
       "      <td>Coca cola</td>\n",
       "      <td>None</td>\n",
       "    </tr>\n",
       "    <tr>\n",
       "      <th>8</th>\n",
       "      <td>None</td>\n",
       "      <td>Nestea</td>\n",
       "      <td>None</td>\n",
       "    </tr>\n",
       "    <tr>\n",
       "      <th>9</th>\n",
       "      <td>11</td>\n",
       "      <td>Menú de Pollo</td>\n",
       "      <td>02,03,06,17,18</td>\n",
       "    </tr>\n",
       "    <tr>\n",
       "      <th>10</th>\n",
       "      <td>12</td>\n",
       "      <td>Menú de Hamburguesa con queso</td>\n",
       "      <td>01,02,04,10,16</td>\n",
       "    </tr>\n",
       "    <tr>\n",
       "      <th>11</th>\n",
       "      <td>13</td>\n",
       "      <td>Menú de Pollo con queso</td>\n",
       "      <td>02,04,06,08,09,15</td>\n",
       "    </tr>\n",
       "    <tr>\n",
       "      <th>12</th>\n",
       "      <td>14</td>\n",
       "      <td>Menú de Hamburguesa</td>\n",
       "      <td>01,02,03,05,08,09,15</td>\n",
       "    </tr>\n",
       "    <tr>\n",
       "      <th>13</th>\n",
       "      <td>None</td>\n",
       "      <td>Helado</td>\n",
       "      <td>None</td>\n",
       "    </tr>\n",
       "    <tr>\n",
       "      <th>14</th>\n",
       "      <td>None</td>\n",
       "      <td>Tarta</td>\n",
       "      <td>None</td>\n",
       "    </tr>\n",
       "    <tr>\n",
       "      <th>15</th>\n",
       "      <td>None</td>\n",
       "      <td>Fruta</td>\n",
       "      <td>None</td>\n",
       "    </tr>\n",
       "    <tr>\n",
       "      <th>16</th>\n",
       "      <td>None</td>\n",
       "      <td>Agua</td>\n",
       "      <td>None</td>\n",
       "    </tr>\n",
       "    <tr>\n",
       "      <th>17</th>\n",
       "      <td>None</td>\n",
       "      <td>Fanta</td>\n",
       "      <td>None</td>\n",
       "    </tr>\n",
       "  </tbody>\n",
       "</table>\n",
       "</div>"
      ],
      "text/plain": [
       "   Codigo_P                       Producto           Componentes\n",
       "0      None                    Hamburguesa                  None\n",
       "1      None                        Patatas                  None\n",
       "2      None                         tomate                  None\n",
       "3      None                          Queso                  None\n",
       "4      None                        Lechuga                  None\n",
       "5      None                          Pollo                  None\n",
       "6      None                          Bacon                  None\n",
       "7      None                      Coca cola                  None\n",
       "8      None                         Nestea                  None\n",
       "9        11                  Menú de Pollo        02,03,06,17,18\n",
       "10       12  Menú de Hamburguesa con queso        01,02,04,10,16\n",
       "11       13        Menú de Pollo con queso     02,04,06,08,09,15\n",
       "12       14            Menú de Hamburguesa  01,02,03,05,08,09,15\n",
       "13     None                         Helado                  None\n",
       "14     None                          Tarta                  None\n",
       "15     None                          Fruta                  None\n",
       "16     None                           Agua                  None\n",
       "17     None                          Fanta                  None"
      ]
     },
     "execution_count": 36,
     "metadata": {},
     "output_type": "execute_result"
    }
   ],
   "source": [
    "connection = mysql.connector.connect(host='', database='', user='', password='', connection_timeout=)\n",
    "cursor=connection.cursor()\n",
    "df11 = pd.read_sql(query11, connection)\n",
    "df11\n",
    "\n",
    "##df11.to_csv('listarepartidores.csv', index=False)"
   ]
  },
  {
   "cell_type": "markdown",
   "metadata": {},
   "source": [
    "#### 12. Obtener el importe total de todos los pedidos."
   ]
  },
  {
   "cell_type": "code",
   "execution_count": 37,
   "metadata": {},
   "outputs": [
    {
     "data": {
      "text/plain": [
       "[(234.0,)]"
      ]
     },
     "execution_count": 37,
     "metadata": {},
     "output_type": "execute_result"
    }
   ],
   "source": [
    "connection = mysql.connector.connect(host='', database='', user='', password='', connection_timeout=)\n",
    "cursor=connection.cursor()\n",
    "query12 = \"\"\" SELECT SUM(Importe) AS Total_importe FROM PEDIDO;\"\"\"\n",
    "cursor.execute(query12)\n",
    "cursor.fetchall()"
   ]
  },
  {
   "cell_type": "code",
   "execution_count": 38,
   "metadata": {},
   "outputs": [
    {
     "name": "stderr",
     "output_type": "stream",
     "text": [
      "C:\\Users\\Usuario\\AppData\\Local\\Temp\\ipykernel_13828\\324788970.py:3: UserWarning: pandas only supports SQLAlchemy connectable (engine/connection) or database string URI or sqlite3 DBAPI2 connection. Other DBAPI2 objects are not tested. Please consider using SQLAlchemy.\n",
      "  df12 = pd.read_sql(query12, connection)\n"
     ]
    },
    {
     "data": {
      "text/html": [
       "<div>\n",
       "<style scoped>\n",
       "    .dataframe tbody tr th:only-of-type {\n",
       "        vertical-align: middle;\n",
       "    }\n",
       "\n",
       "    .dataframe tbody tr th {\n",
       "        vertical-align: top;\n",
       "    }\n",
       "\n",
       "    .dataframe thead th {\n",
       "        text-align: right;\n",
       "    }\n",
       "</style>\n",
       "<table border=\"1\" class=\"dataframe\">\n",
       "  <thead>\n",
       "    <tr style=\"text-align: right;\">\n",
       "      <th></th>\n",
       "      <th>Total_importe</th>\n",
       "    </tr>\n",
       "  </thead>\n",
       "  <tbody>\n",
       "    <tr>\n",
       "      <th>0</th>\n",
       "      <td>234.0</td>\n",
       "    </tr>\n",
       "  </tbody>\n",
       "</table>\n",
       "</div>"
      ],
      "text/plain": [
       "   Total_importe\n",
       "0          234.0"
      ]
     },
     "execution_count": 38,
     "metadata": {},
     "output_type": "execute_result"
    }
   ],
   "source": [
    "connection = mysql.connector.connect(host='', database='', user='', password='', connection_timeout=)\n",
    "cursor=connection.cursor()\n",
    "df12 = pd.read_sql(query12, connection)\n",
    "df12\n",
    "\n",
    "##df12.to_csv('listarepartidores.csv', index=False)"
   ]
  },
  {
   "cell_type": "markdown",
   "metadata": {},
   "source": [
    "#### 13. Mostrar los empleados que no son repartidores."
   ]
  },
  {
   "cell_type": "code",
   "execution_count": 41,
   "metadata": {},
   "outputs": [
    {
     "data": {
      "text/plain": [
       "[('03232323P', 'María Luisa Galdón Ter', '43534534567', 'noche', 1200.0),\n",
       " ('04444444T', 'Úrsula Delta Camacho', '11177788899', 'mañana', 900.0),\n",
       " ('11111111Q', 'Luis Ramírez Pardo', '23445556666', 'mañana', 900.0),\n",
       " ('14111155T', 'Sergio Lérida Campos', '55577700089', 'tarde', 1000.0),\n",
       " ('14567555L', 'Piedad Colmenero Zapillo', '23456734534', 'noche', 1200.0),\n",
       " ('22222222S', 'María Sánchez Cid', '11112223334', 'tarde', 1000.0),\n",
       " ('33333333M', 'Martín Guerrero López', '33344455566', 'tarde', 1000.0),\n",
       " ('55555555J', 'Carmen Hernández Pío', '99966633311', 'mañana', 900.0),\n",
       " ('77777777M', 'Pedro Jiménez Ruiz', '23456785432', 'tarde', 1000.0),\n",
       " ('88888888O', 'Soledad Campillo Molina', '00088877754', 'noche', 1200.0),\n",
       " ('99999999X', 'Raúl Rodrigo Roca', '55566677789', 'tarde', 1000.0)]"
      ]
     },
     "execution_count": 41,
     "metadata": {},
     "output_type": "execute_result"
    }
   ],
   "source": [
    "connection = mysql.connector.connect(host='', database='', user='', password='', connection_timeout=)\n",
    "cursor=connection.cursor()\n",
    "query13 = \"\"\" SELECT * FROM EMPLEADO WHERE DNI NOT IN (SELECT DNI FROM REPARTIDOR);\"\"\"\n",
    "cursor.execute(query13)\n",
    "cursor.fetchall()"
   ]
  },
  {
   "cell_type": "code",
   "execution_count": 42,
   "metadata": {},
   "outputs": [
    {
     "name": "stderr",
     "output_type": "stream",
     "text": [
      "C:\\Users\\Usuario\\AppData\\Local\\Temp\\ipykernel_13828\\3072966035.py:3: UserWarning: pandas only supports SQLAlchemy connectable (engine/connection) or database string URI or sqlite3 DBAPI2 connection. Other DBAPI2 objects are not tested. Please consider using SQLAlchemy.\n",
      "  df13 = pd.read_sql(query13, connection)\n"
     ]
    },
    {
     "data": {
      "text/html": [
       "<div>\n",
       "<style scoped>\n",
       "    .dataframe tbody tr th:only-of-type {\n",
       "        vertical-align: middle;\n",
       "    }\n",
       "\n",
       "    .dataframe tbody tr th {\n",
       "        vertical-align: top;\n",
       "    }\n",
       "\n",
       "    .dataframe thead th {\n",
       "        text-align: right;\n",
       "    }\n",
       "</style>\n",
       "<table border=\"1\" class=\"dataframe\">\n",
       "  <thead>\n",
       "    <tr style=\"text-align: right;\">\n",
       "      <th></th>\n",
       "      <th>DNI</th>\n",
       "      <th>Nombre</th>\n",
       "      <th>Nss</th>\n",
       "      <th>Turno</th>\n",
       "      <th>Salario</th>\n",
       "    </tr>\n",
       "  </thead>\n",
       "  <tbody>\n",
       "    <tr>\n",
       "      <th>0</th>\n",
       "      <td>03232323P</td>\n",
       "      <td>María Luisa Galdón Ter</td>\n",
       "      <td>43534534567</td>\n",
       "      <td>noche</td>\n",
       "      <td>1200.0</td>\n",
       "    </tr>\n",
       "    <tr>\n",
       "      <th>1</th>\n",
       "      <td>04444444T</td>\n",
       "      <td>Úrsula Delta Camacho</td>\n",
       "      <td>11177788899</td>\n",
       "      <td>mañana</td>\n",
       "      <td>900.0</td>\n",
       "    </tr>\n",
       "    <tr>\n",
       "      <th>2</th>\n",
       "      <td>11111111Q</td>\n",
       "      <td>Luis Ramírez Pardo</td>\n",
       "      <td>23445556666</td>\n",
       "      <td>mañana</td>\n",
       "      <td>900.0</td>\n",
       "    </tr>\n",
       "    <tr>\n",
       "      <th>3</th>\n",
       "      <td>14111155T</td>\n",
       "      <td>Sergio Lérida Campos</td>\n",
       "      <td>55577700089</td>\n",
       "      <td>tarde</td>\n",
       "      <td>1000.0</td>\n",
       "    </tr>\n",
       "    <tr>\n",
       "      <th>4</th>\n",
       "      <td>14567555L</td>\n",
       "      <td>Piedad Colmenero Zapillo</td>\n",
       "      <td>23456734534</td>\n",
       "      <td>noche</td>\n",
       "      <td>1200.0</td>\n",
       "    </tr>\n",
       "    <tr>\n",
       "      <th>5</th>\n",
       "      <td>22222222S</td>\n",
       "      <td>María Sánchez Cid</td>\n",
       "      <td>11112223334</td>\n",
       "      <td>tarde</td>\n",
       "      <td>1000.0</td>\n",
       "    </tr>\n",
       "    <tr>\n",
       "      <th>6</th>\n",
       "      <td>33333333M</td>\n",
       "      <td>Martín Guerrero López</td>\n",
       "      <td>33344455566</td>\n",
       "      <td>tarde</td>\n",
       "      <td>1000.0</td>\n",
       "    </tr>\n",
       "    <tr>\n",
       "      <th>7</th>\n",
       "      <td>55555555J</td>\n",
       "      <td>Carmen Hernández Pío</td>\n",
       "      <td>99966633311</td>\n",
       "      <td>mañana</td>\n",
       "      <td>900.0</td>\n",
       "    </tr>\n",
       "    <tr>\n",
       "      <th>8</th>\n",
       "      <td>77777777M</td>\n",
       "      <td>Pedro Jiménez Ruiz</td>\n",
       "      <td>23456785432</td>\n",
       "      <td>tarde</td>\n",
       "      <td>1000.0</td>\n",
       "    </tr>\n",
       "    <tr>\n",
       "      <th>9</th>\n",
       "      <td>88888888O</td>\n",
       "      <td>Soledad Campillo Molina</td>\n",
       "      <td>00088877754</td>\n",
       "      <td>noche</td>\n",
       "      <td>1200.0</td>\n",
       "    </tr>\n",
       "    <tr>\n",
       "      <th>10</th>\n",
       "      <td>99999999X</td>\n",
       "      <td>Raúl Rodrigo Roca</td>\n",
       "      <td>55566677789</td>\n",
       "      <td>tarde</td>\n",
       "      <td>1000.0</td>\n",
       "    </tr>\n",
       "  </tbody>\n",
       "</table>\n",
       "</div>"
      ],
      "text/plain": [
       "          DNI                    Nombre          Nss   Turno  Salario\n",
       "0   03232323P    María Luisa Galdón Ter  43534534567   noche   1200.0\n",
       "1   04444444T      Úrsula Delta Camacho  11177788899  mañana    900.0\n",
       "2   11111111Q        Luis Ramírez Pardo  23445556666  mañana    900.0\n",
       "3   14111155T      Sergio Lérida Campos  55577700089   tarde   1000.0\n",
       "4   14567555L  Piedad Colmenero Zapillo  23456734534   noche   1200.0\n",
       "5   22222222S         María Sánchez Cid  11112223334   tarde   1000.0\n",
       "6   33333333M     Martín Guerrero López  33344455566   tarde   1000.0\n",
       "7   55555555J      Carmen Hernández Pío  99966633311  mañana    900.0\n",
       "8   77777777M        Pedro Jiménez Ruiz  23456785432   tarde   1000.0\n",
       "9   88888888O   Soledad Campillo Molina  00088877754   noche   1200.0\n",
       "10  99999999X         Raúl Rodrigo Roca  55566677789   tarde   1000.0"
      ]
     },
     "execution_count": 42,
     "metadata": {},
     "output_type": "execute_result"
    }
   ],
   "source": [
    "connection = mysql.connector.connect(host='', database='', user='', password='', connection_timeout=)\n",
    "cursor=connection.cursor()\n",
    "df13 = pd.read_sql(query13, connection)\n",
    "df13\n",
    "\n",
    "##df13.to_csv('listarepartidores.csv', index=False)"
   ]
  },
  {
   "cell_type": "markdown",
   "metadata": {},
   "source": [
    " ##### 14. Listar los pedidos junto con el nombre del empleado que tomó el pedido."
   ]
  },
  {
   "cell_type": "code",
   "execution_count": 43,
   "metadata": {},
   "outputs": [
    {
     "data": {
      "text/plain": [
       "[('03232323P', 'María Luisa Galdón Ter', '43534534567', 'noche', 1200.0),\n",
       " ('04444444T', 'Úrsula Delta Camacho', '11177788899', 'mañana', 900.0),\n",
       " ('11111111Q', 'Luis Ramírez Pardo', '23445556666', 'mañana', 900.0),\n",
       " ('14111155T', 'Sergio Lérida Campos', '55577700089', 'tarde', 1000.0),\n",
       " ('14567555L', 'Piedad Colmenero Zapillo', '23456734534', 'noche', 1200.0),\n",
       " ('22222222S', 'María Sánchez Cid', '11112223334', 'tarde', 1000.0),\n",
       " ('33333333M', 'Martín Guerrero López', '33344455566', 'tarde', 1000.0),\n",
       " ('55555555J', 'Carmen Hernández Pío', '99966633311', 'mañana', 900.0),\n",
       " ('77777777M', 'Pedro Jiménez Ruiz', '23456785432', 'tarde', 1000.0),\n",
       " ('88888888O', 'Soledad Campillo Molina', '00088877754', 'noche', 1200.0),\n",
       " ('99999999X', 'Raúl Rodrigo Roca', '55566677789', 'tarde', 1000.0)]"
      ]
     },
     "execution_count": 43,
     "metadata": {},
     "output_type": "execute_result"
    }
   ],
   "source": [
    "connection = mysql.connector.connect(host='', database='', user='', password='', connection_timeout=)\n",
    "cursor=connection.cursor()\n",
    "query14 = \"\"\" SELECT * FROM EMPLEADO WHERE DNI NOT IN (SELECT DNI FROM REPARTIDOR);\"\"\"\n",
    "cursor.execute(query14)\n",
    "cursor.fetchall()"
   ]
  },
  {
   "cell_type": "code",
   "execution_count": 44,
   "metadata": {},
   "outputs": [
    {
     "name": "stderr",
     "output_type": "stream",
     "text": [
      "C:\\Users\\Usuario\\AppData\\Local\\Temp\\ipykernel_13828\\3952222088.py:3: UserWarning: pandas only supports SQLAlchemy connectable (engine/connection) or database string URI or sqlite3 DBAPI2 connection. Other DBAPI2 objects are not tested. Please consider using SQLAlchemy.\n",
      "  df14 = pd.read_sql(query14, connection)\n"
     ]
    },
    {
     "data": {
      "text/html": [
       "<div>\n",
       "<style scoped>\n",
       "    .dataframe tbody tr th:only-of-type {\n",
       "        vertical-align: middle;\n",
       "    }\n",
       "\n",
       "    .dataframe tbody tr th {\n",
       "        vertical-align: top;\n",
       "    }\n",
       "\n",
       "    .dataframe thead th {\n",
       "        text-align: right;\n",
       "    }\n",
       "</style>\n",
       "<table border=\"1\" class=\"dataframe\">\n",
       "  <thead>\n",
       "    <tr style=\"text-align: right;\">\n",
       "      <th></th>\n",
       "      <th>DNI</th>\n",
       "      <th>Nombre</th>\n",
       "      <th>Nss</th>\n",
       "      <th>Turno</th>\n",
       "      <th>Salario</th>\n",
       "    </tr>\n",
       "  </thead>\n",
       "  <tbody>\n",
       "    <tr>\n",
       "      <th>0</th>\n",
       "      <td>03232323P</td>\n",
       "      <td>María Luisa Galdón Ter</td>\n",
       "      <td>43534534567</td>\n",
       "      <td>noche</td>\n",
       "      <td>1200.0</td>\n",
       "    </tr>\n",
       "    <tr>\n",
       "      <th>1</th>\n",
       "      <td>04444444T</td>\n",
       "      <td>Úrsula Delta Camacho</td>\n",
       "      <td>11177788899</td>\n",
       "      <td>mañana</td>\n",
       "      <td>900.0</td>\n",
       "    </tr>\n",
       "    <tr>\n",
       "      <th>2</th>\n",
       "      <td>11111111Q</td>\n",
       "      <td>Luis Ramírez Pardo</td>\n",
       "      <td>23445556666</td>\n",
       "      <td>mañana</td>\n",
       "      <td>900.0</td>\n",
       "    </tr>\n",
       "    <tr>\n",
       "      <th>3</th>\n",
       "      <td>14111155T</td>\n",
       "      <td>Sergio Lérida Campos</td>\n",
       "      <td>55577700089</td>\n",
       "      <td>tarde</td>\n",
       "      <td>1000.0</td>\n",
       "    </tr>\n",
       "    <tr>\n",
       "      <th>4</th>\n",
       "      <td>14567555L</td>\n",
       "      <td>Piedad Colmenero Zapillo</td>\n",
       "      <td>23456734534</td>\n",
       "      <td>noche</td>\n",
       "      <td>1200.0</td>\n",
       "    </tr>\n",
       "    <tr>\n",
       "      <th>5</th>\n",
       "      <td>22222222S</td>\n",
       "      <td>María Sánchez Cid</td>\n",
       "      <td>11112223334</td>\n",
       "      <td>tarde</td>\n",
       "      <td>1000.0</td>\n",
       "    </tr>\n",
       "    <tr>\n",
       "      <th>6</th>\n",
       "      <td>33333333M</td>\n",
       "      <td>Martín Guerrero López</td>\n",
       "      <td>33344455566</td>\n",
       "      <td>tarde</td>\n",
       "      <td>1000.0</td>\n",
       "    </tr>\n",
       "    <tr>\n",
       "      <th>7</th>\n",
       "      <td>55555555J</td>\n",
       "      <td>Carmen Hernández Pío</td>\n",
       "      <td>99966633311</td>\n",
       "      <td>mañana</td>\n",
       "      <td>900.0</td>\n",
       "    </tr>\n",
       "    <tr>\n",
       "      <th>8</th>\n",
       "      <td>77777777M</td>\n",
       "      <td>Pedro Jiménez Ruiz</td>\n",
       "      <td>23456785432</td>\n",
       "      <td>tarde</td>\n",
       "      <td>1000.0</td>\n",
       "    </tr>\n",
       "    <tr>\n",
       "      <th>9</th>\n",
       "      <td>88888888O</td>\n",
       "      <td>Soledad Campillo Molina</td>\n",
       "      <td>00088877754</td>\n",
       "      <td>noche</td>\n",
       "      <td>1200.0</td>\n",
       "    </tr>\n",
       "    <tr>\n",
       "      <th>10</th>\n",
       "      <td>99999999X</td>\n",
       "      <td>Raúl Rodrigo Roca</td>\n",
       "      <td>55566677789</td>\n",
       "      <td>tarde</td>\n",
       "      <td>1000.0</td>\n",
       "    </tr>\n",
       "  </tbody>\n",
       "</table>\n",
       "</div>"
      ],
      "text/plain": [
       "          DNI                    Nombre          Nss   Turno  Salario\n",
       "0   03232323P    María Luisa Galdón Ter  43534534567   noche   1200.0\n",
       "1   04444444T      Úrsula Delta Camacho  11177788899  mañana    900.0\n",
       "2   11111111Q        Luis Ramírez Pardo  23445556666  mañana    900.0\n",
       "3   14111155T      Sergio Lérida Campos  55577700089   tarde   1000.0\n",
       "4   14567555L  Piedad Colmenero Zapillo  23456734534   noche   1200.0\n",
       "5   22222222S         María Sánchez Cid  11112223334   tarde   1000.0\n",
       "6   33333333M     Martín Guerrero López  33344455566   tarde   1000.0\n",
       "7   55555555J      Carmen Hernández Pío  99966633311  mañana    900.0\n",
       "8   77777777M        Pedro Jiménez Ruiz  23456785432   tarde   1000.0\n",
       "9   88888888O   Soledad Campillo Molina  00088877754   noche   1200.0\n",
       "10  99999999X         Raúl Rodrigo Roca  55566677789   tarde   1000.0"
      ]
     },
     "execution_count": 44,
     "metadata": {},
     "output_type": "execute_result"
    }
   ],
   "source": [
    "connection = mysql.connector.connect(host='', database='', user='', password='', connection_timeout=)\n",
    "cursor=connection.cursor()\n",
    "df14 = pd.read_sql(query14, connection)\n",
    "df14\n",
    "\n",
    "##df14.to_csv('listarepartidores.csv', index=False)"
   ]
  },
  {
   "cell_type": "markdown",
   "metadata": {},
   "source": [
    "#### 15. Encontrar la cantidad total de productos en cada pedido."
   ]
  },
  {
   "cell_type": "code",
   "execution_count": 45,
   "metadata": {},
   "outputs": [
    {
     "data": {
      "text/plain": [
       "[('0001', Decimal('3')),\n",
       " ('0002', Decimal('5')),\n",
       " ('0003', Decimal('3')),\n",
       " ('0004', Decimal('4')),\n",
       " ('0005', Decimal('4')),\n",
       " ('0006', Decimal('5')),\n",
       " ('0007', Decimal('4')),\n",
       " ('0008', Decimal('3')),\n",
       " ('0009', Decimal('5')),\n",
       " ('0010', Decimal('12')),\n",
       " ('0011', Decimal('2'))]"
      ]
     },
     "execution_count": 45,
     "metadata": {},
     "output_type": "execute_result"
    }
   ],
   "source": [
    "connection = mysql.connector.connect(host='', database='', user='', password='', connection_timeout=)\n",
    "cursor=connection.cursor()\n",
    "query15 = \"\"\" SELECT Numero_P AS Numero, SUM(cantidad) AS Cantidad_total_productos FROM consta GROUP BY Numero_P;\"\"\"\n",
    "cursor.execute(query15)\n",
    "cursor.fetchall()"
   ]
  },
  {
   "cell_type": "code",
   "execution_count": 46,
   "metadata": {},
   "outputs": [
    {
     "name": "stderr",
     "output_type": "stream",
     "text": [
      "C:\\Users\\Usuario\\AppData\\Local\\Temp\\ipykernel_13828\\3855114076.py:3: UserWarning: pandas only supports SQLAlchemy connectable (engine/connection) or database string URI or sqlite3 DBAPI2 connection. Other DBAPI2 objects are not tested. Please consider using SQLAlchemy.\n",
      "  df15 = pd.read_sql(query15, connection)\n"
     ]
    },
    {
     "data": {
      "text/html": [
       "<div>\n",
       "<style scoped>\n",
       "    .dataframe tbody tr th:only-of-type {\n",
       "        vertical-align: middle;\n",
       "    }\n",
       "\n",
       "    .dataframe tbody tr th {\n",
       "        vertical-align: top;\n",
       "    }\n",
       "\n",
       "    .dataframe thead th {\n",
       "        text-align: right;\n",
       "    }\n",
       "</style>\n",
       "<table border=\"1\" class=\"dataframe\">\n",
       "  <thead>\n",
       "    <tr style=\"text-align: right;\">\n",
       "      <th></th>\n",
       "      <th>Numero</th>\n",
       "      <th>Cantidad_total_productos</th>\n",
       "    </tr>\n",
       "  </thead>\n",
       "  <tbody>\n",
       "    <tr>\n",
       "      <th>0</th>\n",
       "      <td>0001</td>\n",
       "      <td>3.0</td>\n",
       "    </tr>\n",
       "    <tr>\n",
       "      <th>1</th>\n",
       "      <td>0002</td>\n",
       "      <td>5.0</td>\n",
       "    </tr>\n",
       "    <tr>\n",
       "      <th>2</th>\n",
       "      <td>0003</td>\n",
       "      <td>3.0</td>\n",
       "    </tr>\n",
       "    <tr>\n",
       "      <th>3</th>\n",
       "      <td>0004</td>\n",
       "      <td>4.0</td>\n",
       "    </tr>\n",
       "    <tr>\n",
       "      <th>4</th>\n",
       "      <td>0005</td>\n",
       "      <td>4.0</td>\n",
       "    </tr>\n",
       "    <tr>\n",
       "      <th>5</th>\n",
       "      <td>0006</td>\n",
       "      <td>5.0</td>\n",
       "    </tr>\n",
       "    <tr>\n",
       "      <th>6</th>\n",
       "      <td>0007</td>\n",
       "      <td>4.0</td>\n",
       "    </tr>\n",
       "    <tr>\n",
       "      <th>7</th>\n",
       "      <td>0008</td>\n",
       "      <td>3.0</td>\n",
       "    </tr>\n",
       "    <tr>\n",
       "      <th>8</th>\n",
       "      <td>0009</td>\n",
       "      <td>5.0</td>\n",
       "    </tr>\n",
       "    <tr>\n",
       "      <th>9</th>\n",
       "      <td>0010</td>\n",
       "      <td>12.0</td>\n",
       "    </tr>\n",
       "    <tr>\n",
       "      <th>10</th>\n",
       "      <td>0011</td>\n",
       "      <td>2.0</td>\n",
       "    </tr>\n",
       "  </tbody>\n",
       "</table>\n",
       "</div>"
      ],
      "text/plain": [
       "   Numero  Cantidad_total_productos\n",
       "0    0001                       3.0\n",
       "1    0002                       5.0\n",
       "2    0003                       3.0\n",
       "3    0004                       4.0\n",
       "4    0005                       4.0\n",
       "5    0006                       5.0\n",
       "6    0007                       4.0\n",
       "7    0008                       3.0\n",
       "8    0009                       5.0\n",
       "9    0010                      12.0\n",
       "10   0011                       2.0"
      ]
     },
     "execution_count": 46,
     "metadata": {},
     "output_type": "execute_result"
    }
   ],
   "source": [
    "connection = mysql.connector.connect(host='', database='', user='', password='', connection_timeout=)\n",
    "cursor=connection.cursor()\n",
    "df15 = pd.read_sql(query15, connection)\n",
    "df15\n",
    "\n",
    "##df15.to_csv('listarepartidores.csv', index=False)"
   ]
  },
  {
   "cell_type": "markdown",
   "metadata": {},
   "source": [
    "#### 16. Obtener el nombre del repartidor y el importe de los pedidos que ha entregado."
   ]
  },
  {
   "cell_type": "code",
   "execution_count": 50,
   "metadata": {},
   "outputs": [
    {
     "name": "stderr",
     "output_type": "stream",
     "text": [
      "C:\\Users\\Usuario\\AppData\\Local\\Temp\\ipykernel_13828\\4234281070.py:6: UserWarning: pandas only supports SQLAlchemy connectable (engine/connection) or database string URI or sqlite3 DBAPI2 connection. Other DBAPI2 objects are not tested. Please consider using SQLAlchemy.\n",
      "  df16 = pd.read_sql(query16, connection)\n"
     ]
    },
    {
     "data": {
      "text/html": [
       "<div>\n",
       "<style scoped>\n",
       "    .dataframe tbody tr th:only-of-type {\n",
       "        vertical-align: middle;\n",
       "    }\n",
       "\n",
       "    .dataframe tbody tr th {\n",
       "        vertical-align: top;\n",
       "    }\n",
       "\n",
       "    .dataframe thead th {\n",
       "        text-align: right;\n",
       "    }\n",
       "</style>\n",
       "<table border=\"1\" class=\"dataframe\">\n",
       "  <thead>\n",
       "    <tr style=\"text-align: right;\">\n",
       "      <th></th>\n",
       "      <th>Nombre_Repartidor</th>\n",
       "      <th>Importe</th>\n",
       "    </tr>\n",
       "  </thead>\n",
       "  <tbody>\n",
       "    <tr>\n",
       "      <th>0</th>\n",
       "      <td>Laura Jiménez Jiménez</td>\n",
       "      <td>13.0</td>\n",
       "    </tr>\n",
       "    <tr>\n",
       "      <th>1</th>\n",
       "      <td>Laura Jiménez Jiménez</td>\n",
       "      <td>23.0</td>\n",
       "    </tr>\n",
       "    <tr>\n",
       "      <th>2</th>\n",
       "      <td>Juan Pardo Rubio</td>\n",
       "      <td>14.0</td>\n",
       "    </tr>\n",
       "    <tr>\n",
       "      <th>3</th>\n",
       "      <td>Carlos Sánchez Ruíz</td>\n",
       "      <td>14.0</td>\n",
       "    </tr>\n",
       "    <tr>\n",
       "      <th>4</th>\n",
       "      <td>Carlos Sánchez Ruíz</td>\n",
       "      <td>17.0</td>\n",
       "    </tr>\n",
       "    <tr>\n",
       "      <th>5</th>\n",
       "      <td>Juan Sánchez López</td>\n",
       "      <td>10.0</td>\n",
       "    </tr>\n",
       "    <tr>\n",
       "      <th>6</th>\n",
       "      <td>Alejandro Pardo López</td>\n",
       "      <td>15.0</td>\n",
       "    </tr>\n",
       "    <tr>\n",
       "      <th>7</th>\n",
       "      <td>Alejandro Pardo López</td>\n",
       "      <td>13.0</td>\n",
       "    </tr>\n",
       "    <tr>\n",
       "      <th>8</th>\n",
       "      <td>Alejandro Pardo López</td>\n",
       "      <td>25.0</td>\n",
       "    </tr>\n",
       "  </tbody>\n",
       "</table>\n",
       "</div>"
      ],
      "text/plain": [
       "       Nombre_Repartidor  Importe\n",
       "0  Laura Jiménez Jiménez     13.0\n",
       "1  Laura Jiménez Jiménez     23.0\n",
       "2       Juan Pardo Rubio     14.0\n",
       "3    Carlos Sánchez Ruíz     14.0\n",
       "4    Carlos Sánchez Ruíz     17.0\n",
       "5     Juan Sánchez López     10.0\n",
       "6  Alejandro Pardo López     15.0\n",
       "7  Alejandro Pardo López     13.0\n",
       "8  Alejandro Pardo López     25.0"
      ]
     },
     "execution_count": 50,
     "metadata": {},
     "output_type": "execute_result"
    }
   ],
   "source": [
    "connection = mysql.connector.connect(host='', database='', user='', password='', connection_timeout=)\n",
    "cursor=connection.cursor()\n",
    "query16 = \"\"\" SELECT R.Nombre AS Nombre_Repartidor, P.Importe FROM REPARTIDOR R JOIN PEDIDO P ON R.DNI = P.DNI_R WHERE P.DNI_R IS NOT NULL;\"\"\"\n",
    "cursor.execute(query16)\n",
    "cursor.fetchall()\n",
    "df16 = pd.read_sql(query16, connection)\n",
    "df16\n",
    "\n",
    "##df16.to_csv('listarepartidores.csv', index=False)"
   ]
  },
  {
   "cell_type": "markdown",
   "metadata": {},
   "source": [
    "#### 17. Listar todos los pedidos junto con la hora en que fueron tomados y preparados."
   ]
  },
  {
   "cell_type": "code",
   "execution_count": 49,
   "metadata": {},
   "outputs": [
    {
     "name": "stderr",
     "output_type": "stream",
     "text": [
      "C:\\Users\\Usuario\\AppData\\Local\\Temp\\ipykernel_13828\\2494514114.py:6: UserWarning: pandas only supports SQLAlchemy connectable (engine/connection) or database string URI or sqlite3 DBAPI2 connection. Other DBAPI2 objects are not tested. Please consider using SQLAlchemy.\n",
      "  df17 = pd.read_sql(query17, connection)\n"
     ]
    },
    {
     "data": {
      "text/html": [
       "<div>\n",
       "<style scoped>\n",
       "    .dataframe tbody tr th:only-of-type {\n",
       "        vertical-align: middle;\n",
       "    }\n",
       "\n",
       "    .dataframe tbody tr th {\n",
       "        vertical-align: top;\n",
       "    }\n",
       "\n",
       "    .dataframe thead th {\n",
       "        text-align: right;\n",
       "    }\n",
       "</style>\n",
       "<table border=\"1\" class=\"dataframe\">\n",
       "  <thead>\n",
       "    <tr style=\"text-align: right;\">\n",
       "      <th></th>\n",
       "      <th>Nombre_Repartidor</th>\n",
       "      <th>Importe</th>\n",
       "    </tr>\n",
       "  </thead>\n",
       "  <tbody>\n",
       "    <tr>\n",
       "      <th>0</th>\n",
       "      <td>Laura Jiménez Jiménez</td>\n",
       "      <td>13.0</td>\n",
       "    </tr>\n",
       "    <tr>\n",
       "      <th>1</th>\n",
       "      <td>Laura Jiménez Jiménez</td>\n",
       "      <td>23.0</td>\n",
       "    </tr>\n",
       "    <tr>\n",
       "      <th>2</th>\n",
       "      <td>Juan Pardo Rubio</td>\n",
       "      <td>14.0</td>\n",
       "    </tr>\n",
       "    <tr>\n",
       "      <th>3</th>\n",
       "      <td>Carlos Sánchez Ruíz</td>\n",
       "      <td>14.0</td>\n",
       "    </tr>\n",
       "    <tr>\n",
       "      <th>4</th>\n",
       "      <td>Carlos Sánchez Ruíz</td>\n",
       "      <td>17.0</td>\n",
       "    </tr>\n",
       "    <tr>\n",
       "      <th>5</th>\n",
       "      <td>Juan Sánchez López</td>\n",
       "      <td>10.0</td>\n",
       "    </tr>\n",
       "    <tr>\n",
       "      <th>6</th>\n",
       "      <td>Alejandro Pardo López</td>\n",
       "      <td>15.0</td>\n",
       "    </tr>\n",
       "    <tr>\n",
       "      <th>7</th>\n",
       "      <td>Alejandro Pardo López</td>\n",
       "      <td>13.0</td>\n",
       "    </tr>\n",
       "    <tr>\n",
       "      <th>8</th>\n",
       "      <td>Alejandro Pardo López</td>\n",
       "      <td>25.0</td>\n",
       "    </tr>\n",
       "  </tbody>\n",
       "</table>\n",
       "</div>"
      ],
      "text/plain": [
       "       Nombre_Repartidor  Importe\n",
       "0  Laura Jiménez Jiménez     13.0\n",
       "1  Laura Jiménez Jiménez     23.0\n",
       "2       Juan Pardo Rubio     14.0\n",
       "3    Carlos Sánchez Ruíz     14.0\n",
       "4    Carlos Sánchez Ruíz     17.0\n",
       "5     Juan Sánchez López     10.0\n",
       "6  Alejandro Pardo López     15.0\n",
       "7  Alejandro Pardo López     13.0\n",
       "8  Alejandro Pardo López     25.0"
      ]
     },
     "execution_count": 49,
     "metadata": {},
     "output_type": "execute_result"
    }
   ],
   "source": [
    "connection = mysql.connector.connect(host='', database='', user='', password='', connection_timeout=)\n",
    "cursor=connection.cursor()\n",
    "query17 = \"\"\" SELECT R.Nombre AS Nombre_Repartidor, P.Importe FROM REPARTIDOR R JOIN PEDIDO P ON R.DNI = P.DNI_R WHERE P.DNI_R IS NOT NULL;\"\"\"\n",
    "cursor.execute(query17)\n",
    "cursor.fetchall()\n",
    "df17 = pd.read_sql(query17, connection)\n",
    "df17\n",
    "\n",
    "##df17.to_csv('listarepartidores.csv', index=False)"
   ]
  },
  {
   "cell_type": "markdown",
   "metadata": {},
   "source": [
    "#### 18. Mostrar el total de incentivos pagados a los repartidores."
   ]
  },
  {
   "cell_type": "code",
   "execution_count": 51,
   "metadata": {},
   "outputs": [
    {
     "name": "stderr",
     "output_type": "stream",
     "text": [
      "C:\\Users\\Usuario\\AppData\\Local\\Temp\\ipykernel_13828\\2366269936.py:6: UserWarning: pandas only supports SQLAlchemy connectable (engine/connection) or database string URI or sqlite3 DBAPI2 connection. Other DBAPI2 objects are not tested. Please consider using SQLAlchemy.\n",
      "  df18 = pd.read_sql(query18, connection)\n"
     ]
    },
    {
     "data": {
      "text/html": [
       "<div>\n",
       "<style scoped>\n",
       "    .dataframe tbody tr th:only-of-type {\n",
       "        vertical-align: middle;\n",
       "    }\n",
       "\n",
       "    .dataframe tbody tr th {\n",
       "        vertical-align: top;\n",
       "    }\n",
       "\n",
       "    .dataframe thead th {\n",
       "        text-align: right;\n",
       "    }\n",
       "</style>\n",
       "<table border=\"1\" class=\"dataframe\">\n",
       "  <thead>\n",
       "    <tr style=\"text-align: right;\">\n",
       "      <th></th>\n",
       "      <th>Total_incentivos_pagados</th>\n",
       "    </tr>\n",
       "  </thead>\n",
       "  <tbody>\n",
       "    <tr>\n",
       "      <th>0</th>\n",
       "      <td>2000.0</td>\n",
       "    </tr>\n",
       "  </tbody>\n",
       "</table>\n",
       "</div>"
      ],
      "text/plain": [
       "   Total_incentivos_pagados\n",
       "0                    2000.0"
      ]
     },
     "execution_count": 51,
     "metadata": {},
     "output_type": "execute_result"
    }
   ],
   "source": [
    "connection = mysql.connector.connect(host='', database='', user='', password='', connection_timeout=)\n",
    "cursor=connection.cursor()\n",
    "query18 = \"\"\" SELECT SUM(Incentivo) AS Total_incentivos_pagados FROM REPARTIDOR;\"\"\"\n",
    "cursor.execute(query18)\n",
    "cursor.fetchall()\n",
    "df18 = pd.read_sql(query18, connection)\n",
    "df18\n",
    "\n",
    "##df18.to_csv('listarepartidores.csv', index=False)"
   ]
  },
  {
   "cell_type": "markdown",
   "metadata": {},
   "source": [
    "#### 19. Encontrar los empleados que han tomado más de 5 pedidos."
   ]
  },
  {
   "cell_type": "code",
   "execution_count": 52,
   "metadata": {},
   "outputs": [
    {
     "name": "stderr",
     "output_type": "stream",
     "text": [
      "C:\\Users\\Usuario\\AppData\\Local\\Temp\\ipykernel_13828\\2832021846.py:6: UserWarning: pandas only supports SQLAlchemy connectable (engine/connection) or database string URI or sqlite3 DBAPI2 connection. Other DBAPI2 objects are not tested. Please consider using SQLAlchemy.\n",
      "  df19 = pd.read_sql(query19, connection)\n"
     ]
    },
    {
     "data": {
      "text/html": [
       "<div>\n",
       "<style scoped>\n",
       "    .dataframe tbody tr th:only-of-type {\n",
       "        vertical-align: middle;\n",
       "    }\n",
       "\n",
       "    .dataframe tbody tr th {\n",
       "        vertical-align: top;\n",
       "    }\n",
       "\n",
       "    .dataframe thead th {\n",
       "        text-align: right;\n",
       "    }\n",
       "</style>\n",
       "<table border=\"1\" class=\"dataframe\">\n",
       "  <thead>\n",
       "    <tr style=\"text-align: right;\">\n",
       "      <th></th>\n",
       "      <th>Nombre_Empleado</th>\n",
       "      <th>DNI</th>\n",
       "      <th>Numero_Pedidos</th>\n",
       "    </tr>\n",
       "  </thead>\n",
       "  <tbody>\n",
       "  </tbody>\n",
       "</table>\n",
       "</div>"
      ],
      "text/plain": [
       "Empty DataFrame\n",
       "Columns: [Nombre_Empleado, DNI, Numero_Pedidos]\n",
       "Index: []"
      ]
     },
     "execution_count": 52,
     "metadata": {},
     "output_type": "execute_result"
    }
   ],
   "source": [
    "connection = mysql.connector.connect(host='', database='', user='', password='', connection_timeout=)\n",
    "cursor=connection.cursor()\n",
    "query19 = \"\"\" SELECT E.Nombre AS Nombre_Empleado, E.DNI,COUNT(P.Numero) AS Numero_Pedidos FROM EMPLEADO E JOIN PEDIDO P ON E.DNI = P.DNI_ETM GROUP BY E.Nombre, E.DNI HAVING COUNT(P.Numero) > 5;\"\"\"\n",
    "cursor.execute(query19)\n",
    "cursor.fetchall()\n",
    "df19 = pd.read_sql(query19, connection)\n",
    "df19\n",
    "\n",
    "##df19.to_csv('listarepartidores.csv', index=False)"
   ]
  },
  {
   "cell_type": "markdown",
   "metadata": {},
   "source": [
    "#### 20. Listar todos los pedidos junto con el nombre del empleado que los preparó."
   ]
  },
  {
   "cell_type": "code",
   "execution_count": 53,
   "metadata": {},
   "outputs": [
    {
     "name": "stderr",
     "output_type": "stream",
     "text": [
      "C:\\Users\\Usuario\\AppData\\Local\\Temp\\ipykernel_13828\\3992162085.py:6: UserWarning: pandas only supports SQLAlchemy connectable (engine/connection) or database string URI or sqlite3 DBAPI2 connection. Other DBAPI2 objects are not tested. Please consider using SQLAlchemy.\n",
      "  df20 = pd.read_sql(query20, connection)\n"
     ]
    },
    {
     "data": {
      "text/html": [
       "<div>\n",
       "<style scoped>\n",
       "    .dataframe tbody tr th:only-of-type {\n",
       "        vertical-align: middle;\n",
       "    }\n",
       "\n",
       "    .dataframe tbody tr th {\n",
       "        vertical-align: top;\n",
       "    }\n",
       "\n",
       "    .dataframe thead th {\n",
       "        text-align: right;\n",
       "    }\n",
       "</style>\n",
       "<table border=\"1\" class=\"dataframe\">\n",
       "  <thead>\n",
       "    <tr style=\"text-align: right;\">\n",
       "      <th></th>\n",
       "      <th>Numero_Pedido</th>\n",
       "      <th>Nombre_Empleado_Que_Preparo</th>\n",
       "    </tr>\n",
       "  </thead>\n",
       "  <tbody>\n",
       "    <tr>\n",
       "      <th>0</th>\n",
       "      <td>0005</td>\n",
       "      <td>María Luisa Galdón Ter</td>\n",
       "    </tr>\n",
       "    <tr>\n",
       "      <th>1</th>\n",
       "      <td>0001</td>\n",
       "      <td>Úrsula Delta Camacho</td>\n",
       "    </tr>\n",
       "    <tr>\n",
       "      <th>2</th>\n",
       "      <td>0010</td>\n",
       "      <td>Piedad Colmenero Zapillo</td>\n",
       "    </tr>\n",
       "    <tr>\n",
       "      <th>3</th>\n",
       "      <td>0011</td>\n",
       "      <td>Piedad Colmenero Zapillo</td>\n",
       "    </tr>\n",
       "    <tr>\n",
       "      <th>4</th>\n",
       "      <td>0003</td>\n",
       "      <td>María Sánchez Cid</td>\n",
       "    </tr>\n",
       "    <tr>\n",
       "      <th>5</th>\n",
       "      <td>0008</td>\n",
       "      <td>Martín Guerrero López</td>\n",
       "    </tr>\n",
       "    <tr>\n",
       "      <th>6</th>\n",
       "      <td>0009</td>\n",
       "      <td>Carmen Hernández Pío</td>\n",
       "    </tr>\n",
       "    <tr>\n",
       "      <th>7</th>\n",
       "      <td>0002</td>\n",
       "      <td>Pedro Jiménez Ruiz</td>\n",
       "    </tr>\n",
       "    <tr>\n",
       "      <th>8</th>\n",
       "      <td>0004</td>\n",
       "      <td>Pedro Jiménez Ruiz</td>\n",
       "    </tr>\n",
       "    <tr>\n",
       "      <th>9</th>\n",
       "      <td>0006</td>\n",
       "      <td>Soledad Campillo Molina</td>\n",
       "    </tr>\n",
       "    <tr>\n",
       "      <th>10</th>\n",
       "      <td>0007</td>\n",
       "      <td>Soledad Campillo Molina</td>\n",
       "    </tr>\n",
       "  </tbody>\n",
       "</table>\n",
       "</div>"
      ],
      "text/plain": [
       "   Numero_Pedido Nombre_Empleado_Que_Preparo\n",
       "0           0005      María Luisa Galdón Ter\n",
       "1           0001        Úrsula Delta Camacho\n",
       "2           0010    Piedad Colmenero Zapillo\n",
       "3           0011    Piedad Colmenero Zapillo\n",
       "4           0003           María Sánchez Cid\n",
       "5           0008       Martín Guerrero López\n",
       "6           0009        Carmen Hernández Pío\n",
       "7           0002          Pedro Jiménez Ruiz\n",
       "8           0004          Pedro Jiménez Ruiz\n",
       "9           0006     Soledad Campillo Molina\n",
       "10          0007     Soledad Campillo Molina"
      ]
     },
     "execution_count": 53,
     "metadata": {},
     "output_type": "execute_result"
    }
   ],
   "source": [
    "connection = mysql.connector.connect(host='', database='', user='', password='', connection_timeout=)\n",
    "cursor=connection.cursor()\n",
    "query20 = \"\"\" SELECT P.Numero AS Numero_Pedido, E.Nombre AS Nombre_Empleado_Que_Preparo FROM PEDIDO P JOIN EMPLEADO E ON P.DNI_EP = E.DNI;\"\"\"\n",
    "cursor.execute(query20)\n",
    "cursor.fetchall()\n",
    "df20 = pd.read_sql(query20, connection)\n",
    "df20\n",
    "\n",
    "##df20.to_csv('listarepartidores.csv', index=False)"
   ]
  },
  {
   "cell_type": "markdown",
   "metadata": {},
   "source": [
    "#### 21. Mostrar los productos cuyo precio es mayor que el precio promedio de todos los productos."
   ]
  },
  {
   "cell_type": "code",
   "execution_count": 54,
   "metadata": {},
   "outputs": [
    {
     "name": "stderr",
     "output_type": "stream",
     "text": [
      "C:\\Users\\Usuario\\AppData\\Local\\Temp\\ipykernel_13828\\2665143090.py:6: UserWarning: pandas only supports SQLAlchemy connectable (engine/connection) or database string URI or sqlite3 DBAPI2 connection. Other DBAPI2 objects are not tested. Please consider using SQLAlchemy.\n",
      "  df21 = pd.read_sql(query21, connection)\n"
     ]
    },
    {
     "data": {
      "text/html": [
       "<div>\n",
       "<style scoped>\n",
       "    .dataframe tbody tr th:only-of-type {\n",
       "        vertical-align: middle;\n",
       "    }\n",
       "\n",
       "    .dataframe tbody tr th {\n",
       "        vertical-align: top;\n",
       "    }\n",
       "\n",
       "    .dataframe thead th {\n",
       "        text-align: right;\n",
       "    }\n",
       "</style>\n",
       "<table border=\"1\" class=\"dataframe\">\n",
       "  <thead>\n",
       "    <tr style=\"text-align: right;\">\n",
       "      <th></th>\n",
       "      <th>Codigo</th>\n",
       "      <th>Nombre</th>\n",
       "      <th>Precio</th>\n",
       "    </tr>\n",
       "  </thead>\n",
       "  <tbody>\n",
       "    <tr>\n",
       "      <th>0</th>\n",
       "      <td>12</td>\n",
       "      <td>Menú de Hamburguesa con queso</td>\n",
       "      <td>6.0</td>\n",
       "    </tr>\n",
       "    <tr>\n",
       "      <th>1</th>\n",
       "      <td>13</td>\n",
       "      <td>Menú de Pollo con queso</td>\n",
       "      <td>6.0</td>\n",
       "    </tr>\n",
       "    <tr>\n",
       "      <th>2</th>\n",
       "      <td>14</td>\n",
       "      <td>Menú de Hamburguesa</td>\n",
       "      <td>6.0</td>\n",
       "    </tr>\n",
       "    <tr>\n",
       "      <th>3</th>\n",
       "      <td>11</td>\n",
       "      <td>Menú de Pollo</td>\n",
       "      <td>5.0</td>\n",
       "    </tr>\n",
       "    <tr>\n",
       "      <th>4</th>\n",
       "      <td>06</td>\n",
       "      <td>Pollo</td>\n",
       "      <td>3.6</td>\n",
       "    </tr>\n",
       "    <tr>\n",
       "      <th>5</th>\n",
       "      <td>09</td>\n",
       "      <td>Coca cola</td>\n",
       "      <td>3.0</td>\n",
       "    </tr>\n",
       "    <tr>\n",
       "      <th>6</th>\n",
       "      <td>10</td>\n",
       "      <td>Nestea</td>\n",
       "      <td>3.0</td>\n",
       "    </tr>\n",
       "    <tr>\n",
       "      <th>7</th>\n",
       "      <td>19</td>\n",
       "      <td>Fanta</td>\n",
       "      <td>3.0</td>\n",
       "    </tr>\n",
       "  </tbody>\n",
       "</table>\n",
       "</div>"
      ],
      "text/plain": [
       "  Codigo                         Nombre  Precio\n",
       "0     12  Menú de Hamburguesa con queso     6.0\n",
       "1     13        Menú de Pollo con queso     6.0\n",
       "2     14            Menú de Hamburguesa     6.0\n",
       "3     11                  Menú de Pollo     5.0\n",
       "4     06                          Pollo     3.6\n",
       "5     09                      Coca cola     3.0\n",
       "6     10                         Nestea     3.0\n",
       "7     19                          Fanta     3.0"
      ]
     },
     "execution_count": 54,
     "metadata": {},
     "output_type": "execute_result"
    }
   ],
   "source": [
    "connection = mysql.connector.connect(host='', database='', user='', password='', connection_timeout=)\n",
    "cursor=connection.cursor()\n",
    "query21 = \"\"\" SELECT Codigo, Nombre,Precio FROM PRODUCTO WHERE Precio > (SELECT AVG(Precio) FROM PRODUCTO) ORDER BY Precio DESC;\"\"\"\n",
    "cursor.execute(query21)\n",
    "cursor.fetchall()\n",
    "df21 = pd.read_sql(query21, connection)\n",
    "df21\n",
    "\n",
    "##df21.to_csv('listarepartidores.csv', index=False)"
   ]
  },
  {
   "cell_type": "markdown",
   "metadata": {},
   "source": [
    "#### 22. Listar los empleados y repartidores con el mismo turno."
   ]
  },
  {
   "cell_type": "code",
   "execution_count": 55,
   "metadata": {},
   "outputs": [
    {
     "name": "stderr",
     "output_type": "stream",
     "text": [
      "C:\\Users\\Usuario\\AppData\\Local\\Temp\\ipykernel_13828\\2965321595.py:12: UserWarning: pandas only supports SQLAlchemy connectable (engine/connection) or database string URI or sqlite3 DBAPI2 connection. Other DBAPI2 objects are not tested. Please consider using SQLAlchemy.\n",
      "  df22 = pd.read_sql(query22, connection)\n"
     ]
    },
    {
     "data": {
      "text/html": [
       "<div>\n",
       "<style scoped>\n",
       "    .dataframe tbody tr th:only-of-type {\n",
       "        vertical-align: middle;\n",
       "    }\n",
       "\n",
       "    .dataframe tbody tr th {\n",
       "        vertical-align: top;\n",
       "    }\n",
       "\n",
       "    .dataframe thead th {\n",
       "        text-align: right;\n",
       "    }\n",
       "</style>\n",
       "<table border=\"1\" class=\"dataframe\">\n",
       "  <thead>\n",
       "    <tr style=\"text-align: right;\">\n",
       "      <th></th>\n",
       "      <th>Nombre_Empleado</th>\n",
       "      <th>DNI_Empleado</th>\n",
       "      <th>Nombre_Repartidor</th>\n",
       "      <th>DNI_Repartidor</th>\n",
       "      <th>Turno</th>\n",
       "    </tr>\n",
       "  </thead>\n",
       "  <tbody>\n",
       "    <tr>\n",
       "      <th>0</th>\n",
       "      <td>Carmen Hernández Pío</td>\n",
       "      <td>55555555J</td>\n",
       "      <td>Alejandro Pardo López</td>\n",
       "      <td>99009900J</td>\n",
       "      <td>mañana</td>\n",
       "    </tr>\n",
       "    <tr>\n",
       "      <th>1</th>\n",
       "      <td>Carmen Hernández Pío</td>\n",
       "      <td>55555555J</td>\n",
       "      <td>Juan Sánchez López</td>\n",
       "      <td>55675675J</td>\n",
       "      <td>mañana</td>\n",
       "    </tr>\n",
       "    <tr>\n",
       "      <th>2</th>\n",
       "      <td>Luis Ramírez Pardo</td>\n",
       "      <td>11111111Q</td>\n",
       "      <td>Alejandro Pardo López</td>\n",
       "      <td>99009900J</td>\n",
       "      <td>mañana</td>\n",
       "    </tr>\n",
       "    <tr>\n",
       "      <th>3</th>\n",
       "      <td>Luis Ramírez Pardo</td>\n",
       "      <td>11111111Q</td>\n",
       "      <td>Juan Sánchez López</td>\n",
       "      <td>55675675J</td>\n",
       "      <td>mañana</td>\n",
       "    </tr>\n",
       "    <tr>\n",
       "      <th>4</th>\n",
       "      <td>Úrsula Delta Camacho</td>\n",
       "      <td>04444444T</td>\n",
       "      <td>Alejandro Pardo López</td>\n",
       "      <td>99009900J</td>\n",
       "      <td>mañana</td>\n",
       "    </tr>\n",
       "    <tr>\n",
       "      <th>5</th>\n",
       "      <td>Úrsula Delta Camacho</td>\n",
       "      <td>04444444T</td>\n",
       "      <td>Juan Sánchez López</td>\n",
       "      <td>55675675J</td>\n",
       "      <td>mañana</td>\n",
       "    </tr>\n",
       "    <tr>\n",
       "      <th>6</th>\n",
       "      <td>María Sánchez Cid</td>\n",
       "      <td>22222222S</td>\n",
       "      <td>Carlos Sánchez Ruíz</td>\n",
       "      <td>14188151T</td>\n",
       "      <td>tarde</td>\n",
       "    </tr>\n",
       "    <tr>\n",
       "      <th>7</th>\n",
       "      <td>María Sánchez Cid</td>\n",
       "      <td>22222222S</td>\n",
       "      <td>Carmen Capel Pío</td>\n",
       "      <td>51235555J</td>\n",
       "      <td>tarde</td>\n",
       "    </tr>\n",
       "    <tr>\n",
       "      <th>8</th>\n",
       "      <td>Martín Guerrero López</td>\n",
       "      <td>33333333M</td>\n",
       "      <td>Carlos Sánchez Ruíz</td>\n",
       "      <td>14188151T</td>\n",
       "      <td>tarde</td>\n",
       "    </tr>\n",
       "    <tr>\n",
       "      <th>9</th>\n",
       "      <td>Martín Guerrero López</td>\n",
       "      <td>33333333M</td>\n",
       "      <td>Carmen Capel Pío</td>\n",
       "      <td>51235555J</td>\n",
       "      <td>tarde</td>\n",
       "    </tr>\n",
       "    <tr>\n",
       "      <th>10</th>\n",
       "      <td>Pedro Jiménez Ruiz</td>\n",
       "      <td>77777777M</td>\n",
       "      <td>Carlos Sánchez Ruíz</td>\n",
       "      <td>14188151T</td>\n",
       "      <td>tarde</td>\n",
       "    </tr>\n",
       "    <tr>\n",
       "      <th>11</th>\n",
       "      <td>Pedro Jiménez Ruiz</td>\n",
       "      <td>77777777M</td>\n",
       "      <td>Carmen Capel Pío</td>\n",
       "      <td>51235555J</td>\n",
       "      <td>tarde</td>\n",
       "    </tr>\n",
       "    <tr>\n",
       "      <th>12</th>\n",
       "      <td>Raúl Rodrigo Roca</td>\n",
       "      <td>99999999X</td>\n",
       "      <td>Carlos Sánchez Ruíz</td>\n",
       "      <td>14188151T</td>\n",
       "      <td>tarde</td>\n",
       "    </tr>\n",
       "    <tr>\n",
       "      <th>13</th>\n",
       "      <td>Raúl Rodrigo Roca</td>\n",
       "      <td>99999999X</td>\n",
       "      <td>Carmen Capel Pío</td>\n",
       "      <td>51235555J</td>\n",
       "      <td>tarde</td>\n",
       "    </tr>\n",
       "    <tr>\n",
       "      <th>14</th>\n",
       "      <td>Sergio Lérida Campos</td>\n",
       "      <td>14111155T</td>\n",
       "      <td>Carlos Sánchez Ruíz</td>\n",
       "      <td>14188151T</td>\n",
       "      <td>tarde</td>\n",
       "    </tr>\n",
       "    <tr>\n",
       "      <th>15</th>\n",
       "      <td>Sergio Lérida Campos</td>\n",
       "      <td>14111155T</td>\n",
       "      <td>Carmen Capel Pío</td>\n",
       "      <td>51235555J</td>\n",
       "      <td>tarde</td>\n",
       "    </tr>\n",
       "    <tr>\n",
       "      <th>16</th>\n",
       "      <td>María Luisa Galdón Ter</td>\n",
       "      <td>03232323P</td>\n",
       "      <td>Juan Pardo Rubio</td>\n",
       "      <td>11245621Q</td>\n",
       "      <td>noche</td>\n",
       "    </tr>\n",
       "    <tr>\n",
       "      <th>17</th>\n",
       "      <td>María Luisa Galdón Ter</td>\n",
       "      <td>03232323P</td>\n",
       "      <td>Laura Jiménez Jiménez</td>\n",
       "      <td>04477744T</td>\n",
       "      <td>noche</td>\n",
       "    </tr>\n",
       "    <tr>\n",
       "      <th>18</th>\n",
       "      <td>Piedad Colmenero Zapillo</td>\n",
       "      <td>14567555L</td>\n",
       "      <td>Juan Pardo Rubio</td>\n",
       "      <td>11245621Q</td>\n",
       "      <td>noche</td>\n",
       "    </tr>\n",
       "    <tr>\n",
       "      <th>19</th>\n",
       "      <td>Piedad Colmenero Zapillo</td>\n",
       "      <td>14567555L</td>\n",
       "      <td>Laura Jiménez Jiménez</td>\n",
       "      <td>04477744T</td>\n",
       "      <td>noche</td>\n",
       "    </tr>\n",
       "    <tr>\n",
       "      <th>20</th>\n",
       "      <td>Soledad Campillo Molina</td>\n",
       "      <td>88888888O</td>\n",
       "      <td>Juan Pardo Rubio</td>\n",
       "      <td>11245621Q</td>\n",
       "      <td>noche</td>\n",
       "    </tr>\n",
       "    <tr>\n",
       "      <th>21</th>\n",
       "      <td>Soledad Campillo Molina</td>\n",
       "      <td>88888888O</td>\n",
       "      <td>Laura Jiménez Jiménez</td>\n",
       "      <td>04477744T</td>\n",
       "      <td>noche</td>\n",
       "    </tr>\n",
       "  </tbody>\n",
       "</table>\n",
       "</div>"
      ],
      "text/plain": [
       "             Nombre_Empleado DNI_Empleado      Nombre_Repartidor  \\\n",
       "0       Carmen Hernández Pío    55555555J  Alejandro Pardo López   \n",
       "1       Carmen Hernández Pío    55555555J     Juan Sánchez López   \n",
       "2         Luis Ramírez Pardo    11111111Q  Alejandro Pardo López   \n",
       "3         Luis Ramírez Pardo    11111111Q     Juan Sánchez López   \n",
       "4       Úrsula Delta Camacho    04444444T  Alejandro Pardo López   \n",
       "5       Úrsula Delta Camacho    04444444T     Juan Sánchez López   \n",
       "6          María Sánchez Cid    22222222S    Carlos Sánchez Ruíz   \n",
       "7          María Sánchez Cid    22222222S       Carmen Capel Pío   \n",
       "8      Martín Guerrero López    33333333M    Carlos Sánchez Ruíz   \n",
       "9      Martín Guerrero López    33333333M       Carmen Capel Pío   \n",
       "10        Pedro Jiménez Ruiz    77777777M    Carlos Sánchez Ruíz   \n",
       "11        Pedro Jiménez Ruiz    77777777M       Carmen Capel Pío   \n",
       "12         Raúl Rodrigo Roca    99999999X    Carlos Sánchez Ruíz   \n",
       "13         Raúl Rodrigo Roca    99999999X       Carmen Capel Pío   \n",
       "14      Sergio Lérida Campos    14111155T    Carlos Sánchez Ruíz   \n",
       "15      Sergio Lérida Campos    14111155T       Carmen Capel Pío   \n",
       "16    María Luisa Galdón Ter    03232323P       Juan Pardo Rubio   \n",
       "17    María Luisa Galdón Ter    03232323P  Laura Jiménez Jiménez   \n",
       "18  Piedad Colmenero Zapillo    14567555L       Juan Pardo Rubio   \n",
       "19  Piedad Colmenero Zapillo    14567555L  Laura Jiménez Jiménez   \n",
       "20   Soledad Campillo Molina    88888888O       Juan Pardo Rubio   \n",
       "21   Soledad Campillo Molina    88888888O  Laura Jiménez Jiménez   \n",
       "\n",
       "   DNI_Repartidor   Turno  \n",
       "0       99009900J  mañana  \n",
       "1       55675675J  mañana  \n",
       "2       99009900J  mañana  \n",
       "3       55675675J  mañana  \n",
       "4       99009900J  mañana  \n",
       "5       55675675J  mañana  \n",
       "6       14188151T   tarde  \n",
       "7       51235555J   tarde  \n",
       "8       14188151T   tarde  \n",
       "9       51235555J   tarde  \n",
       "10      14188151T   tarde  \n",
       "11      51235555J   tarde  \n",
       "12      14188151T   tarde  \n",
       "13      51235555J   tarde  \n",
       "14      14188151T   tarde  \n",
       "15      51235555J   tarde  \n",
       "16      11245621Q   noche  \n",
       "17      04477744T   noche  \n",
       "18      11245621Q   noche  \n",
       "19      04477744T   noche  \n",
       "20      11245621Q   noche  \n",
       "21      04477744T   noche  "
      ]
     },
     "execution_count": 55,
     "metadata": {},
     "output_type": "execute_result"
    }
   ],
   "source": [
    "connection = mysql.connector.connect(host='', database='', user='', password='', connection_timeout=)\n",
    "cursor=connection.cursor()\n",
    "query22 = \"\"\" SELECT \n",
    "    E.Nombre AS Nombre_Empleado,\n",
    "    E.DNI AS DNI_Empleado,\n",
    "    R.Nombre AS Nombre_Repartidor,\n",
    "    R.DNI AS DNI_Repartidor,\n",
    "    E.Turno AS Turno\n",
    "FROM EMPLEADO E JOIN REPARTIDOR R ON E.Turno = R.Turno ORDER BY E.Turno, E.Nombre, R.Nombre;\"\"\"\n",
    "cursor.execute(query22)\n",
    "cursor.fetchall()\n",
    "df22 = pd.read_sql(query22, connection)\n",
    "df22\n",
    "\n",
    "##df22.to_csv('listarepartidores.csv', index=False)"
   ]
  },
  {
   "cell_type": "markdown",
   "metadata": {},
   "source": [
    "#### 23. Obtener los pedidos junto con el nombre del empleado que los tomó y el nombre del repartidor que los entregó"
   ]
  },
  {
   "cell_type": "code",
   "execution_count": 57,
   "metadata": {},
   "outputs": [
    {
     "name": "stderr",
     "output_type": "stream",
     "text": [
      "C:\\Users\\Usuario\\AppData\\Local\\Temp\\ipykernel_13828\\3722912936.py:6: UserWarning: pandas only supports SQLAlchemy connectable (engine/connection) or database string URI or sqlite3 DBAPI2 connection. Other DBAPI2 objects are not tested. Please consider using SQLAlchemy.\n",
      "  df23= pd.read_sql(query23, connection)\n"
     ]
    },
    {
     "data": {
      "text/html": [
       "<div>\n",
       "<style scoped>\n",
       "    .dataframe tbody tr th:only-of-type {\n",
       "        vertical-align: middle;\n",
       "    }\n",
       "\n",
       "    .dataframe tbody tr th {\n",
       "        vertical-align: top;\n",
       "    }\n",
       "\n",
       "    .dataframe thead th {\n",
       "        text-align: right;\n",
       "    }\n",
       "</style>\n",
       "<table border=\"1\" class=\"dataframe\">\n",
       "  <thead>\n",
       "    <tr style=\"text-align: right;\">\n",
       "      <th></th>\n",
       "      <th>Numero_Pedido</th>\n",
       "      <th>Nombre_Empleado_Que_Tomo_Pedido</th>\n",
       "      <th>Nombre_Repartidor_Que_Entrego_Pedido</th>\n",
       "    </tr>\n",
       "  </thead>\n",
       "  <tbody>\n",
       "    <tr>\n",
       "      <th>0</th>\n",
       "      <td>0001</td>\n",
       "      <td>Luis Ramírez Pardo</td>\n",
       "      <td>Juan Sánchez López</td>\n",
       "    </tr>\n",
       "    <tr>\n",
       "      <th>1</th>\n",
       "      <td>0002</td>\n",
       "      <td>María Sánchez Cid</td>\n",
       "      <td>Alejandro Pardo López</td>\n",
       "    </tr>\n",
       "    <tr>\n",
       "      <th>2</th>\n",
       "      <td>0003</td>\n",
       "      <td>Pedro Jiménez Ruiz</td>\n",
       "      <td>Alejandro Pardo López</td>\n",
       "    </tr>\n",
       "    <tr>\n",
       "      <th>3</th>\n",
       "      <td>0004</td>\n",
       "      <td>Raúl Rodrigo Roca</td>\n",
       "      <td>Laura Jiménez Jiménez</td>\n",
       "    </tr>\n",
       "    <tr>\n",
       "      <th>4</th>\n",
       "      <td>0005</td>\n",
       "      <td>Piedad Colmenero Zapillo</td>\n",
       "      <td>Carlos Sánchez Ruíz</td>\n",
       "    </tr>\n",
       "    <tr>\n",
       "      <th>5</th>\n",
       "      <td>0006</td>\n",
       "      <td>Piedad Colmenero Zapillo</td>\n",
       "      <td>Laura Jiménez Jiménez</td>\n",
       "    </tr>\n",
       "    <tr>\n",
       "      <th>6</th>\n",
       "      <td>0007</td>\n",
       "      <td>María Luisa Galdón Ter</td>\n",
       "      <td>Carlos Sánchez Ruíz</td>\n",
       "    </tr>\n",
       "    <tr>\n",
       "      <th>7</th>\n",
       "      <td>0008</td>\n",
       "      <td>Raúl Rodrigo Roca</td>\n",
       "      <td>Juan Pardo Rubio</td>\n",
       "    </tr>\n",
       "    <tr>\n",
       "      <th>8</th>\n",
       "      <td>0009</td>\n",
       "      <td>Úrsula Delta Camacho</td>\n",
       "      <td>Alejandro Pardo López</td>\n",
       "    </tr>\n",
       "  </tbody>\n",
       "</table>\n",
       "</div>"
      ],
      "text/plain": [
       "  Numero_Pedido Nombre_Empleado_Que_Tomo_Pedido  \\\n",
       "0          0001              Luis Ramírez Pardo   \n",
       "1          0002               María Sánchez Cid   \n",
       "2          0003              Pedro Jiménez Ruiz   \n",
       "3          0004               Raúl Rodrigo Roca   \n",
       "4          0005        Piedad Colmenero Zapillo   \n",
       "5          0006        Piedad Colmenero Zapillo   \n",
       "6          0007          María Luisa Galdón Ter   \n",
       "7          0008               Raúl Rodrigo Roca   \n",
       "8          0009            Úrsula Delta Camacho   \n",
       "\n",
       "  Nombre_Repartidor_Que_Entrego_Pedido  \n",
       "0                   Juan Sánchez López  \n",
       "1                Alejandro Pardo López  \n",
       "2                Alejandro Pardo López  \n",
       "3                Laura Jiménez Jiménez  \n",
       "4                  Carlos Sánchez Ruíz  \n",
       "5                Laura Jiménez Jiménez  \n",
       "6                  Carlos Sánchez Ruíz  \n",
       "7                     Juan Pardo Rubio  \n",
       "8                Alejandro Pardo López  "
      ]
     },
     "execution_count": 57,
     "metadata": {},
     "output_type": "execute_result"
    }
   ],
   "source": [
    "connection = mysql.connector.connect(host='', database='', user='', password='', connection_timeout=)\n",
    "cursor=connection.cursor()\n",
    "query23 = \"\"\" SELECT P.Numero AS Numero_Pedido, E.Nombre AS Nombre_Empleado_Que_Tomo_Pedido, R.Nombre AS Nombre_Repartidor_Que_Entrego_Pedido FROM PEDIDO P JOIN EMPLEADO E ON P.DNI_ETM = E.DNI JOIN REPARTIDOR R ON P.DNI_R = R.DNI ORDER BY P.Numero;\"\"\"\n",
    "cursor.execute(query23)\n",
    "cursor.fetchall()\n",
    "df23= pd.read_sql(query23, connection)\n",
    "df23\n",
    "\n",
    "##df23.to_csv('listarepartidores.csv', index=False)"
   ]
  },
  {
   "cell_type": "markdown",
   "metadata": {},
   "source": [
    "#### 24. Mostrar los nombres de los productos en mayúsculas."
   ]
  },
  {
   "cell_type": "code",
   "execution_count": 58,
   "metadata": {},
   "outputs": [
    {
     "name": "stderr",
     "output_type": "stream",
     "text": [
      "C:\\Users\\Usuario\\AppData\\Local\\Temp\\ipykernel_13828\\2001877858.py:6: UserWarning: pandas only supports SQLAlchemy connectable (engine/connection) or database string URI or sqlite3 DBAPI2 connection. Other DBAPI2 objects are not tested. Please consider using SQLAlchemy.\n",
      "  df24= pd.read_sql(query24, connection)\n"
     ]
    },
    {
     "data": {
      "text/html": [
       "<div>\n",
       "<style scoped>\n",
       "    .dataframe tbody tr th:only-of-type {\n",
       "        vertical-align: middle;\n",
       "    }\n",
       "\n",
       "    .dataframe tbody tr th {\n",
       "        vertical-align: top;\n",
       "    }\n",
       "\n",
       "    .dataframe thead th {\n",
       "        text-align: right;\n",
       "    }\n",
       "</style>\n",
       "<table border=\"1\" class=\"dataframe\">\n",
       "  <thead>\n",
       "    <tr style=\"text-align: right;\">\n",
       "      <th></th>\n",
       "      <th>Nombre_Producto</th>\n",
       "    </tr>\n",
       "  </thead>\n",
       "  <tbody>\n",
       "    <tr>\n",
       "      <th>0</th>\n",
       "      <td>AGUA</td>\n",
       "    </tr>\n",
       "    <tr>\n",
       "      <th>1</th>\n",
       "      <td>BACON</td>\n",
       "    </tr>\n",
       "    <tr>\n",
       "      <th>2</th>\n",
       "      <td>COCA COLA</td>\n",
       "    </tr>\n",
       "    <tr>\n",
       "      <th>3</th>\n",
       "      <td>FANTA</td>\n",
       "    </tr>\n",
       "    <tr>\n",
       "      <th>4</th>\n",
       "      <td>FRUTA</td>\n",
       "    </tr>\n",
       "    <tr>\n",
       "      <th>5</th>\n",
       "      <td>HAMBURGUESA</td>\n",
       "    </tr>\n",
       "    <tr>\n",
       "      <th>6</th>\n",
       "      <td>HELADO</td>\n",
       "    </tr>\n",
       "    <tr>\n",
       "      <th>7</th>\n",
       "      <td>LECHUGA</td>\n",
       "    </tr>\n",
       "    <tr>\n",
       "      <th>8</th>\n",
       "      <td>MENÚ DE HAMBURGUESA</td>\n",
       "    </tr>\n",
       "    <tr>\n",
       "      <th>9</th>\n",
       "      <td>MENÚ DE HAMBURGUESA CON QUESO</td>\n",
       "    </tr>\n",
       "    <tr>\n",
       "      <th>10</th>\n",
       "      <td>MENÚ DE POLLO</td>\n",
       "    </tr>\n",
       "    <tr>\n",
       "      <th>11</th>\n",
       "      <td>MENÚ DE POLLO CON QUESO</td>\n",
       "    </tr>\n",
       "    <tr>\n",
       "      <th>12</th>\n",
       "      <td>NESTEA</td>\n",
       "    </tr>\n",
       "    <tr>\n",
       "      <th>13</th>\n",
       "      <td>PATATAS</td>\n",
       "    </tr>\n",
       "    <tr>\n",
       "      <th>14</th>\n",
       "      <td>POLLO</td>\n",
       "    </tr>\n",
       "    <tr>\n",
       "      <th>15</th>\n",
       "      <td>QUESO</td>\n",
       "    </tr>\n",
       "    <tr>\n",
       "      <th>16</th>\n",
       "      <td>TARTA</td>\n",
       "    </tr>\n",
       "    <tr>\n",
       "      <th>17</th>\n",
       "      <td>TOMATE</td>\n",
       "    </tr>\n",
       "  </tbody>\n",
       "</table>\n",
       "</div>"
      ],
      "text/plain": [
       "                  Nombre_Producto\n",
       "0                            AGUA\n",
       "1                           BACON\n",
       "2                       COCA COLA\n",
       "3                           FANTA\n",
       "4                           FRUTA\n",
       "5                     HAMBURGUESA\n",
       "6                          HELADO\n",
       "7                         LECHUGA\n",
       "8             MENÚ DE HAMBURGUESA\n",
       "9   MENÚ DE HAMBURGUESA CON QUESO\n",
       "10                  MENÚ DE POLLO\n",
       "11        MENÚ DE POLLO CON QUESO\n",
       "12                         NESTEA\n",
       "13                        PATATAS\n",
       "14                          POLLO\n",
       "15                          QUESO\n",
       "16                          TARTA\n",
       "17                         TOMATE"
      ]
     },
     "execution_count": 58,
     "metadata": {},
     "output_type": "execute_result"
    }
   ],
   "source": [
    "connection = mysql.connector.connect(host='', database='', user='', password='', connection_timeout=)\n",
    "cursor=connection.cursor()\n",
    "query24 = \"\"\" SELECT UPPER(Nombre) AS Nombre_Producto FROM PRODUCTO;\"\"\"\n",
    "cursor.execute(query24)\n",
    "cursor.fetchall()\n",
    "df24= pd.read_sql(query24, connection)\n",
    "df24\n",
    "\n",
    "##df24.to_csv('listarepartidores.csv', index=False)"
   ]
  },
  {
   "cell_type": "markdown",
   "metadata": {},
   "source": [
    "####  25. Obtener el número de pedidos y el total del importe para cada repartidor."
   ]
  },
  {
   "cell_type": "code",
   "execution_count": 59,
   "metadata": {},
   "outputs": [
    {
     "name": "stderr",
     "output_type": "stream",
     "text": [
      "C:\\Users\\Usuario\\AppData\\Local\\Temp\\ipykernel_13828\\1637171341.py:7: UserWarning: pandas only supports SQLAlchemy connectable (engine/connection) or database string URI or sqlite3 DBAPI2 connection. Other DBAPI2 objects are not tested. Please consider using SQLAlchemy.\n",
      "  df25= pd.read_sql(query25, connection)\n"
     ]
    },
    {
     "data": {
      "text/html": [
       "<div>\n",
       "<style scoped>\n",
       "    .dataframe tbody tr th:only-of-type {\n",
       "        vertical-align: middle;\n",
       "    }\n",
       "\n",
       "    .dataframe tbody tr th {\n",
       "        vertical-align: top;\n",
       "    }\n",
       "\n",
       "    .dataframe thead th {\n",
       "        text-align: right;\n",
       "    }\n",
       "</style>\n",
       "<table border=\"1\" class=\"dataframe\">\n",
       "  <thead>\n",
       "    <tr style=\"text-align: right;\">\n",
       "      <th></th>\n",
       "      <th>DNI_Repartidor</th>\n",
       "      <th>Nombre_Repartidor</th>\n",
       "      <th>Numero_Pedidos</th>\n",
       "      <th>Total_Importe</th>\n",
       "    </tr>\n",
       "  </thead>\n",
       "  <tbody>\n",
       "    <tr>\n",
       "      <th>0</th>\n",
       "      <td>04477744T</td>\n",
       "      <td>Laura Jiménez Jiménez</td>\n",
       "      <td>2</td>\n",
       "      <td>36.0</td>\n",
       "    </tr>\n",
       "    <tr>\n",
       "      <th>1</th>\n",
       "      <td>11245621Q</td>\n",
       "      <td>Juan Pardo Rubio</td>\n",
       "      <td>1</td>\n",
       "      <td>14.0</td>\n",
       "    </tr>\n",
       "    <tr>\n",
       "      <th>2</th>\n",
       "      <td>14188151T</td>\n",
       "      <td>Carlos Sánchez Ruíz</td>\n",
       "      <td>2</td>\n",
       "      <td>31.0</td>\n",
       "    </tr>\n",
       "    <tr>\n",
       "      <th>3</th>\n",
       "      <td>55675675J</td>\n",
       "      <td>Juan Sánchez López</td>\n",
       "      <td>1</td>\n",
       "      <td>10.0</td>\n",
       "    </tr>\n",
       "    <tr>\n",
       "      <th>4</th>\n",
       "      <td>99009900J</td>\n",
       "      <td>Alejandro Pardo López</td>\n",
       "      <td>3</td>\n",
       "      <td>53.0</td>\n",
       "    </tr>\n",
       "  </tbody>\n",
       "</table>\n",
       "</div>"
      ],
      "text/plain": [
       "  DNI_Repartidor      Nombre_Repartidor  Numero_Pedidos  Total_Importe\n",
       "0      04477744T  Laura Jiménez Jiménez               2           36.0\n",
       "1      11245621Q       Juan Pardo Rubio               1           14.0\n",
       "2      14188151T    Carlos Sánchez Ruíz               2           31.0\n",
       "3      55675675J     Juan Sánchez López               1           10.0\n",
       "4      99009900J  Alejandro Pardo López               3           53.0"
      ]
     },
     "execution_count": 59,
     "metadata": {},
     "output_type": "execute_result"
    }
   ],
   "source": [
    "connection = mysql.connector.connect(host='', database='', user='', password='', connection_timeout=)\n",
    "cursor=connection.cursor()\n",
    "query25 = \"\"\" SELECT R.DNI AS DNI_Repartidor, R.Nombre AS Nombre_Repartidor, COUNT(P.Numero) AS Numero_Pedidos, SUM(P.Importe) \n",
    "AS Total_Importe FROM REPARTIDOR R JOIN PEDIDO P ON R.DNI = P.DNI_R GROUP BY R.DNI, R.Nombre;\n",
    "\"\"\"\n",
    "cursor.execute(query25)\n",
    "cursor.fetchall()\n",
    "df25= pd.read_sql(query25, connection)\n",
    "df25\n",
    "\n",
    "##df25.to_csv('listarepartidores.csv', index=False)"
   ]
  },
  {
   "cell_type": "markdown",
   "metadata": {},
   "source": [
    "#### 26. Mostrar los pedidos realizados en el año 2023."
   ]
  },
  {
   "cell_type": "code",
   "execution_count": 60,
   "metadata": {},
   "outputs": [
    {
     "name": "stderr",
     "output_type": "stream",
     "text": [
      "C:\\Users\\Usuario\\AppData\\Local\\Temp\\ipykernel_13828\\1377292311.py:6: UserWarning: pandas only supports SQLAlchemy connectable (engine/connection) or database string URI or sqlite3 DBAPI2 connection. Other DBAPI2 objects are not tested. Please consider using SQLAlchemy.\n",
      "  df26= pd.read_sql(query26, connection)\n"
     ]
    },
    {
     "data": {
      "text/html": [
       "<div>\n",
       "<style scoped>\n",
       "    .dataframe tbody tr th:only-of-type {\n",
       "        vertical-align: middle;\n",
       "    }\n",
       "\n",
       "    .dataframe tbody tr th {\n",
       "        vertical-align: top;\n",
       "    }\n",
       "\n",
       "    .dataframe thead th {\n",
       "        text-align: right;\n",
       "    }\n",
       "</style>\n",
       "<table border=\"1\" class=\"dataframe\">\n",
       "  <thead>\n",
       "    <tr style=\"text-align: right;\">\n",
       "      <th></th>\n",
       "      <th>Numero</th>\n",
       "      <th>Fecha</th>\n",
       "      <th>Importe</th>\n",
       "    </tr>\n",
       "  </thead>\n",
       "  <tbody>\n",
       "  </tbody>\n",
       "</table>\n",
       "</div>"
      ],
      "text/plain": [
       "Empty DataFrame\n",
       "Columns: [Numero, Fecha, Importe]\n",
       "Index: []"
      ]
     },
     "execution_count": 60,
     "metadata": {},
     "output_type": "execute_result"
    }
   ],
   "source": [
    "connection = mysql.connector.connect(host='', database='', user='', password='', connection_timeout=)\n",
    "cursor=connection.cursor()\n",
    "query26 = \"\"\" SELECT Numero, Fecha, Importe FROM PEDIDO WHERE YEAR(Fecha) = 2023;\"\"\"\n",
    "cursor.execute(query26)\n",
    "cursor.fetchall()\n",
    "df26= pd.read_sql(query26, connection)\n",
    "df26\n",
    "\n",
    "##df26.to_csv('listarepartidores.csv', index=False)"
   ]
  },
  {
   "cell_type": "markdown",
   "metadata": {},
   "source": [
    "#### 27. Listar los repartidores que han entregado pedidos en la última semana."
   ]
  },
  {
   "cell_type": "code",
   "execution_count": 61,
   "metadata": {},
   "outputs": [
    {
     "name": "stderr",
     "output_type": "stream",
     "text": [
      "C:\\Users\\Usuario\\AppData\\Local\\Temp\\ipykernel_13828\\1427399294.py:6: UserWarning: pandas only supports SQLAlchemy connectable (engine/connection) or database string URI or sqlite3 DBAPI2 connection. Other DBAPI2 objects are not tested. Please consider using SQLAlchemy.\n",
      "  df27= pd.read_sql(query27, connection)\n"
     ]
    },
    {
     "data": {
      "text/html": [
       "<div>\n",
       "<style scoped>\n",
       "    .dataframe tbody tr th:only-of-type {\n",
       "        vertical-align: middle;\n",
       "    }\n",
       "\n",
       "    .dataframe tbody tr th {\n",
       "        vertical-align: top;\n",
       "    }\n",
       "\n",
       "    .dataframe thead th {\n",
       "        text-align: right;\n",
       "    }\n",
       "</style>\n",
       "<table border=\"1\" class=\"dataframe\">\n",
       "  <thead>\n",
       "    <tr style=\"text-align: right;\">\n",
       "      <th></th>\n",
       "      <th>DNI</th>\n",
       "      <th>Nombre</th>\n",
       "    </tr>\n",
       "  </thead>\n",
       "  <tbody>\n",
       "  </tbody>\n",
       "</table>\n",
       "</div>"
      ],
      "text/plain": [
       "Empty DataFrame\n",
       "Columns: [DNI, Nombre]\n",
       "Index: []"
      ]
     },
     "execution_count": 61,
     "metadata": {},
     "output_type": "execute_result"
    }
   ],
   "source": [
    "connection = mysql.connector.connect(host='', database='', user='', password='', connection_timeout=)\n",
    "cursor=connection.cursor()\n",
    "query27 = \"\"\" SELECT DISTINCT R.DNI,R.Nombre FROM REPARTIDOR R JOIN PEDIDO P ON R.DNI = P.DNI_R WHERE P.Fecha >= DATE_SUB(CURDATE(), INTERVAL 7 DAY);\"\"\"\n",
    "cursor.execute(query27)\n",
    "cursor.fetchall()\n",
    "df27= pd.read_sql(query27, connection)\n",
    "df27\n",
    "\n",
    "##df27.to_csv('listarepartidores.csv', index=False)"
   ]
  },
  {
   "cell_type": "markdown",
   "metadata": {},
   "source": [
    "####  28. Obtener la diferencia en días entre la fecha del pedido y la fecha actual para todos los pedidos."
   ]
  },
  {
   "cell_type": "code",
   "execution_count": 62,
   "metadata": {},
   "outputs": [
    {
     "name": "stderr",
     "output_type": "stream",
     "text": [
      "C:\\Users\\Usuario\\AppData\\Local\\Temp\\ipykernel_13828\\1923469890.py:6: UserWarning: pandas only supports SQLAlchemy connectable (engine/connection) or database string URI or sqlite3 DBAPI2 connection. Other DBAPI2 objects are not tested. Please consider using SQLAlchemy.\n",
      "  df28= pd.read_sql(query28, connection)\n"
     ]
    },
    {
     "data": {
      "text/html": [
       "<div>\n",
       "<style scoped>\n",
       "    .dataframe tbody tr th:only-of-type {\n",
       "        vertical-align: middle;\n",
       "    }\n",
       "\n",
       "    .dataframe tbody tr th {\n",
       "        vertical-align: top;\n",
       "    }\n",
       "\n",
       "    .dataframe thead th {\n",
       "        text-align: right;\n",
       "    }\n",
       "</style>\n",
       "<table border=\"1\" class=\"dataframe\">\n",
       "  <thead>\n",
       "    <tr style=\"text-align: right;\">\n",
       "      <th></th>\n",
       "      <th>Numero</th>\n",
       "      <th>Fecha</th>\n",
       "      <th>Dias_Diferencia</th>\n",
       "    </tr>\n",
       "  </thead>\n",
       "  <tbody>\n",
       "    <tr>\n",
       "      <th>0</th>\n",
       "      <td>0001</td>\n",
       "      <td>2020-10-15</td>\n",
       "      <td>1323</td>\n",
       "    </tr>\n",
       "    <tr>\n",
       "      <th>1</th>\n",
       "      <td>0002</td>\n",
       "      <td>2020-11-11</td>\n",
       "      <td>1296</td>\n",
       "    </tr>\n",
       "    <tr>\n",
       "      <th>2</th>\n",
       "      <td>0003</td>\n",
       "      <td>2020-10-15</td>\n",
       "      <td>1323</td>\n",
       "    </tr>\n",
       "    <tr>\n",
       "      <th>3</th>\n",
       "      <td>0004</td>\n",
       "      <td>2020-11-10</td>\n",
       "      <td>1297</td>\n",
       "    </tr>\n",
       "    <tr>\n",
       "      <th>4</th>\n",
       "      <td>0005</td>\n",
       "      <td>2020-09-05</td>\n",
       "      <td>1363</td>\n",
       "    </tr>\n",
       "    <tr>\n",
       "      <th>5</th>\n",
       "      <td>0006</td>\n",
       "      <td>2020-11-15</td>\n",
       "      <td>1292</td>\n",
       "    </tr>\n",
       "    <tr>\n",
       "      <th>6</th>\n",
       "      <td>0007</td>\n",
       "      <td>2020-09-25</td>\n",
       "      <td>1343</td>\n",
       "    </tr>\n",
       "    <tr>\n",
       "      <th>7</th>\n",
       "      <td>0008</td>\n",
       "      <td>2020-09-15</td>\n",
       "      <td>1353</td>\n",
       "    </tr>\n",
       "    <tr>\n",
       "      <th>8</th>\n",
       "      <td>0009</td>\n",
       "      <td>2020-11-23</td>\n",
       "      <td>1284</td>\n",
       "    </tr>\n",
       "    <tr>\n",
       "      <th>9</th>\n",
       "      <td>0010</td>\n",
       "      <td>2020-11-05</td>\n",
       "      <td>1302</td>\n",
       "    </tr>\n",
       "    <tr>\n",
       "      <th>10</th>\n",
       "      <td>0011</td>\n",
       "      <td>2020-11-05</td>\n",
       "      <td>1302</td>\n",
       "    </tr>\n",
       "  </tbody>\n",
       "</table>\n",
       "</div>"
      ],
      "text/plain": [
       "   Numero       Fecha  Dias_Diferencia\n",
       "0    0001  2020-10-15             1323\n",
       "1    0002  2020-11-11             1296\n",
       "2    0003  2020-10-15             1323\n",
       "3    0004  2020-11-10             1297\n",
       "4    0005  2020-09-05             1363\n",
       "5    0006  2020-11-15             1292\n",
       "6    0007  2020-09-25             1343\n",
       "7    0008  2020-09-15             1353\n",
       "8    0009  2020-11-23             1284\n",
       "9    0010  2020-11-05             1302\n",
       "10   0011  2020-11-05             1302"
      ]
     },
     "execution_count": 62,
     "metadata": {},
     "output_type": "execute_result"
    }
   ],
   "source": [
    "connection = mysql.connector.connect(host='', database='', user='', password='', connection_timeout=)\n",
    "cursor=connection.cursor()\n",
    "query28 = \"\"\" SELECT  Numero, Fecha,DATEDIFF(CURDATE(), Fecha) AS Dias_Diferencia FROM PEDIDO;\"\"\"\n",
    "cursor.execute(query28)\n",
    "cursor.fetchall()\n",
    "df28= pd.read_sql(query28, connection)\n",
    "df28\n",
    "\n",
    "##df28.to_csv('listarepartidores.csv', index=False)"
   ]
  },
  {
   "cell_type": "markdown",
   "metadata": {},
   "source": [
    "####  29. Listar los empleados que trabajan en el turno de mañana y tienen un salario mayor a 2000."
   ]
  },
  {
   "cell_type": "code",
   "execution_count": 64,
   "metadata": {},
   "outputs": [
    {
     "name": "stderr",
     "output_type": "stream",
     "text": [
      "C:\\Users\\Usuario\\AppData\\Local\\Temp\\ipykernel_13828\\1927893938.py:6: UserWarning: pandas only supports SQLAlchemy connectable (engine/connection) or database string URI or sqlite3 DBAPI2 connection. Other DBAPI2 objects are not tested. Please consider using SQLAlchemy.\n",
      "  df29= pd.read_sql(query29, connection)\n"
     ]
    },
    {
     "data": {
      "text/html": [
       "<div>\n",
       "<style scoped>\n",
       "    .dataframe tbody tr th:only-of-type {\n",
       "        vertical-align: middle;\n",
       "    }\n",
       "\n",
       "    .dataframe tbody tr th {\n",
       "        vertical-align: top;\n",
       "    }\n",
       "\n",
       "    .dataframe thead th {\n",
       "        text-align: right;\n",
       "    }\n",
       "</style>\n",
       "<table border=\"1\" class=\"dataframe\">\n",
       "  <thead>\n",
       "    <tr style=\"text-align: right;\">\n",
       "      <th></th>\n",
       "      <th>DNI</th>\n",
       "      <th>Nombre</th>\n",
       "      <th>Salario</th>\n",
       "    </tr>\n",
       "  </thead>\n",
       "  <tbody>\n",
       "  </tbody>\n",
       "</table>\n",
       "</div>"
      ],
      "text/plain": [
       "Empty DataFrame\n",
       "Columns: [DNI, Nombre, Salario]\n",
       "Index: []"
      ]
     },
     "execution_count": 64,
     "metadata": {},
     "output_type": "execute_result"
    }
   ],
   "source": [
    "connection = mysql.connector.connect(host='', database='', user='', password='', connection_timeout=)\n",
    "cursor=connection.cursor()\n",
    "query29 = \"\"\" SELECT DNI, Nombre, Salario FROM EMPLEADO WHERE Turno = 'mañana' AND Salario > 2000;\"\"\"\n",
    "cursor.execute(query29)\n",
    "cursor.fetchall()\n",
    "df29= pd.read_sql(query29, connection)\n",
    "df29\n",
    "\n",
    "##df29.to_csv('listarepartidores.csv', index=False)"
   ]
  },
  {
   "cell_type": "markdown",
   "metadata": {},
   "source": [
    "####  30. Mostrar los productos y su precio con un incremento del 10%."
   ]
  },
  {
   "cell_type": "code",
   "execution_count": 66,
   "metadata": {},
   "outputs": [
    {
     "name": "stderr",
     "output_type": "stream",
     "text": [
      "C:\\Users\\Usuario\\AppData\\Local\\Temp\\ipykernel_13828\\1861974533.py:6: UserWarning: pandas only supports SQLAlchemy connectable (engine/connection) or database string URI or sqlite3 DBAPI2 connection. Other DBAPI2 objects are not tested. Please consider using SQLAlchemy.\n",
      "  df30= pd.read_sql(query30, connection)\n"
     ]
    },
    {
     "data": {
      "text/html": [
       "<div>\n",
       "<style scoped>\n",
       "    .dataframe tbody tr th:only-of-type {\n",
       "        vertical-align: middle;\n",
       "    }\n",
       "\n",
       "    .dataframe tbody tr th {\n",
       "        vertical-align: top;\n",
       "    }\n",
       "\n",
       "    .dataframe thead th {\n",
       "        text-align: right;\n",
       "    }\n",
       "</style>\n",
       "<table border=\"1\" class=\"dataframe\">\n",
       "  <thead>\n",
       "    <tr style=\"text-align: right;\">\n",
       "      <th></th>\n",
       "      <th>Nombre</th>\n",
       "      <th>Precio_Con_Incremento</th>\n",
       "    </tr>\n",
       "  </thead>\n",
       "  <tbody>\n",
       "    <tr>\n",
       "      <th>0</th>\n",
       "      <td>Hamburguesa</td>\n",
       "      <td>2.86</td>\n",
       "    </tr>\n",
       "    <tr>\n",
       "      <th>1</th>\n",
       "      <td>Patatas</td>\n",
       "      <td>2.20</td>\n",
       "    </tr>\n",
       "    <tr>\n",
       "      <th>2</th>\n",
       "      <td>tomate</td>\n",
       "      <td>0.55</td>\n",
       "    </tr>\n",
       "    <tr>\n",
       "      <th>3</th>\n",
       "      <td>Queso</td>\n",
       "      <td>1.10</td>\n",
       "    </tr>\n",
       "    <tr>\n",
       "      <th>4</th>\n",
       "      <td>Lechuga</td>\n",
       "      <td>0.55</td>\n",
       "    </tr>\n",
       "    <tr>\n",
       "      <th>5</th>\n",
       "      <td>Pollo</td>\n",
       "      <td>3.96</td>\n",
       "    </tr>\n",
       "    <tr>\n",
       "      <th>6</th>\n",
       "      <td>Bacon</td>\n",
       "      <td>1.65</td>\n",
       "    </tr>\n",
       "    <tr>\n",
       "      <th>7</th>\n",
       "      <td>Coca cola</td>\n",
       "      <td>3.30</td>\n",
       "    </tr>\n",
       "    <tr>\n",
       "      <th>8</th>\n",
       "      <td>Nestea</td>\n",
       "      <td>3.30</td>\n",
       "    </tr>\n",
       "    <tr>\n",
       "      <th>9</th>\n",
       "      <td>Menú de Pollo</td>\n",
       "      <td>5.50</td>\n",
       "    </tr>\n",
       "    <tr>\n",
       "      <th>10</th>\n",
       "      <td>Menú de Hamburguesa con queso</td>\n",
       "      <td>6.60</td>\n",
       "    </tr>\n",
       "    <tr>\n",
       "      <th>11</th>\n",
       "      <td>Menú de Pollo con queso</td>\n",
       "      <td>6.60</td>\n",
       "    </tr>\n",
       "    <tr>\n",
       "      <th>12</th>\n",
       "      <td>Menú de Hamburguesa</td>\n",
       "      <td>6.60</td>\n",
       "    </tr>\n",
       "    <tr>\n",
       "      <th>13</th>\n",
       "      <td>Helado</td>\n",
       "      <td>1.10</td>\n",
       "    </tr>\n",
       "    <tr>\n",
       "      <th>14</th>\n",
       "      <td>Tarta</td>\n",
       "      <td>2.20</td>\n",
       "    </tr>\n",
       "    <tr>\n",
       "      <th>15</th>\n",
       "      <td>Fruta</td>\n",
       "      <td>1.10</td>\n",
       "    </tr>\n",
       "    <tr>\n",
       "      <th>16</th>\n",
       "      <td>Agua</td>\n",
       "      <td>2.20</td>\n",
       "    </tr>\n",
       "    <tr>\n",
       "      <th>17</th>\n",
       "      <td>Fanta</td>\n",
       "      <td>3.30</td>\n",
       "    </tr>\n",
       "  </tbody>\n",
       "</table>\n",
       "</div>"
      ],
      "text/plain": [
       "                           Nombre  Precio_Con_Incremento\n",
       "0                     Hamburguesa                   2.86\n",
       "1                         Patatas                   2.20\n",
       "2                          tomate                   0.55\n",
       "3                           Queso                   1.10\n",
       "4                         Lechuga                   0.55\n",
       "5                           Pollo                   3.96\n",
       "6                           Bacon                   1.65\n",
       "7                       Coca cola                   3.30\n",
       "8                          Nestea                   3.30\n",
       "9                   Menú de Pollo                   5.50\n",
       "10  Menú de Hamburguesa con queso                   6.60\n",
       "11        Menú de Pollo con queso                   6.60\n",
       "12            Menú de Hamburguesa                   6.60\n",
       "13                         Helado                   1.10\n",
       "14                          Tarta                   2.20\n",
       "15                          Fruta                   1.10\n",
       "16                           Agua                   2.20\n",
       "17                          Fanta                   3.30"
      ]
     },
     "execution_count": 66,
     "metadata": {},
     "output_type": "execute_result"
    }
   ],
   "source": [
    "connection = mysql.connector.connect(host='', database='', user='', password='', connection_timeout=)\n",
    "cursor=connection.cursor()\n",
    "query30 = \"\"\" SELECT Nombre, Precio * 1.1 AS Precio_Con_Incremento FROM PRODUCTO;\"\"\"\n",
    "cursor.execute(query30)\n",
    "cursor.fetchall()\n",
    "df30= pd.read_sql(query30, connection)\n",
    "df30\n",
    "\n",
    "##df30.to_csv('listarepartidores.csv', index=False)"
   ]
  },
  {
   "cell_type": "markdown",
   "metadata": {},
   "source": [
    "####  31. Obtener los pedidos cuyo importe es el mayor entre todos los pedidos."
   ]
  },
  {
   "cell_type": "code",
   "execution_count": 67,
   "metadata": {},
   "outputs": [
    {
     "name": "stderr",
     "output_type": "stream",
     "text": [
      "C:\\Users\\Usuario\\AppData\\Local\\Temp\\ipykernel_13828\\1641544611.py:6: UserWarning: pandas only supports SQLAlchemy connectable (engine/connection) or database string URI or sqlite3 DBAPI2 connection. Other DBAPI2 objects are not tested. Please consider using SQLAlchemy.\n",
      "  df31= pd.read_sql(query31, connection)\n"
     ]
    },
    {
     "data": {
      "text/html": [
       "<div>\n",
       "<style scoped>\n",
       "    .dataframe tbody tr th:only-of-type {\n",
       "        vertical-align: middle;\n",
       "    }\n",
       "\n",
       "    .dataframe tbody tr th {\n",
       "        vertical-align: top;\n",
       "    }\n",
       "\n",
       "    .dataframe thead th {\n",
       "        text-align: right;\n",
       "    }\n",
       "</style>\n",
       "<table border=\"1\" class=\"dataframe\">\n",
       "  <thead>\n",
       "    <tr style=\"text-align: right;\">\n",
       "      <th></th>\n",
       "      <th>Numero</th>\n",
       "      <th>Fecha</th>\n",
       "      <th>Importe</th>\n",
       "      <th>DNI_ETM</th>\n",
       "      <th>DNI_EP</th>\n",
       "      <th>DNI_R</th>\n",
       "      <th>Hora_tm</th>\n",
       "      <th>Hora_pre</th>\n",
       "      <th>Hora_rep</th>\n",
       "    </tr>\n",
       "  </thead>\n",
       "  <tbody>\n",
       "    <tr>\n",
       "      <th>0</th>\n",
       "      <td>0010</td>\n",
       "      <td>2020-11-05</td>\n",
       "      <td>45.0</td>\n",
       "      <td>88888888O</td>\n",
       "      <td>14567555L</td>\n",
       "      <td>None</td>\n",
       "      <td>0 days 22:05:00</td>\n",
       "      <td>0 days 22:12:00</td>\n",
       "      <td>None</td>\n",
       "    </tr>\n",
       "    <tr>\n",
       "      <th>1</th>\n",
       "      <td>0011</td>\n",
       "      <td>2020-11-05</td>\n",
       "      <td>45.0</td>\n",
       "      <td>88888888O</td>\n",
       "      <td>14567555L</td>\n",
       "      <td>None</td>\n",
       "      <td>0 days 22:05:00</td>\n",
       "      <td>NaT</td>\n",
       "      <td>None</td>\n",
       "    </tr>\n",
       "  </tbody>\n",
       "</table>\n",
       "</div>"
      ],
      "text/plain": [
       "  Numero       Fecha  Importe    DNI_ETM     DNI_EP DNI_R         Hora_tm  \\\n",
       "0   0010  2020-11-05     45.0  88888888O  14567555L  None 0 days 22:05:00   \n",
       "1   0011  2020-11-05     45.0  88888888O  14567555L  None 0 days 22:05:00   \n",
       "\n",
       "         Hora_pre Hora_rep  \n",
       "0 0 days 22:12:00     None  \n",
       "1             NaT     None  "
      ]
     },
     "execution_count": 67,
     "metadata": {},
     "output_type": "execute_result"
    }
   ],
   "source": [
    "connection = mysql.connector.connect(host='', database='', user='', password='', connection_timeout=)\n",
    "cursor=connection.cursor()\n",
    "query31 = \"\"\" SELECT * FROM PEDIDO WHERE Importe = (SELECT MAX(Importe) FROM PEDIDO);\"\"\"\n",
    "cursor.execute(query31)\n",
    "cursor.fetchall()\n",
    "df31= pd.read_sql(query31, connection)\n",
    "df31\n",
    "\n",
    "##df31.to_csv('listarepartidores.csv', index=False)"
   ]
  },
  {
   "cell_type": "markdown",
   "metadata": {},
   "source": [
    "####  32. Listar los empleados que no han tomado ningún pedido."
   ]
  },
  {
   "cell_type": "code",
   "execution_count": 68,
   "metadata": {},
   "outputs": [
    {
     "name": "stderr",
     "output_type": "stream",
     "text": [
      "C:\\Users\\Usuario\\AppData\\Local\\Temp\\ipykernel_13828\\3720929243.py:6: UserWarning: pandas only supports SQLAlchemy connectable (engine/connection) or database string URI or sqlite3 DBAPI2 connection. Other DBAPI2 objects are not tested. Please consider using SQLAlchemy.\n",
      "  df32= pd.read_sql(query32, connection)\n"
     ]
    },
    {
     "data": {
      "text/html": [
       "<div>\n",
       "<style scoped>\n",
       "    .dataframe tbody tr th:only-of-type {\n",
       "        vertical-align: middle;\n",
       "    }\n",
       "\n",
       "    .dataframe tbody tr th {\n",
       "        vertical-align: top;\n",
       "    }\n",
       "\n",
       "    .dataframe thead th {\n",
       "        text-align: right;\n",
       "    }\n",
       "</style>\n",
       "<table border=\"1\" class=\"dataframe\">\n",
       "  <thead>\n",
       "    <tr style=\"text-align: right;\">\n",
       "      <th></th>\n",
       "      <th>DNI</th>\n",
       "      <th>Nombre</th>\n",
       "      <th>Nss</th>\n",
       "      <th>Turno</th>\n",
       "      <th>Salario</th>\n",
       "    </tr>\n",
       "  </thead>\n",
       "  <tbody>\n",
       "    <tr>\n",
       "      <th>0</th>\n",
       "      <td>14111155T</td>\n",
       "      <td>Sergio Lérida Campos</td>\n",
       "      <td>55577700089</td>\n",
       "      <td>tarde</td>\n",
       "      <td>1000.0</td>\n",
       "    </tr>\n",
       "    <tr>\n",
       "      <th>1</th>\n",
       "      <td>33333333M</td>\n",
       "      <td>Martín Guerrero López</td>\n",
       "      <td>33344455566</td>\n",
       "      <td>tarde</td>\n",
       "      <td>1000.0</td>\n",
       "    </tr>\n",
       "    <tr>\n",
       "      <th>2</th>\n",
       "      <td>55555555J</td>\n",
       "      <td>Carmen Hernández Pío</td>\n",
       "      <td>99966633311</td>\n",
       "      <td>mañana</td>\n",
       "      <td>900.0</td>\n",
       "    </tr>\n",
       "  </tbody>\n",
       "</table>\n",
       "</div>"
      ],
      "text/plain": [
       "         DNI                 Nombre          Nss   Turno  Salario\n",
       "0  14111155T   Sergio Lérida Campos  55577700089   tarde   1000.0\n",
       "1  33333333M  Martín Guerrero López  33344455566   tarde   1000.0\n",
       "2  55555555J   Carmen Hernández Pío  99966633311  mañana    900.0"
      ]
     },
     "execution_count": 68,
     "metadata": {},
     "output_type": "execute_result"
    }
   ],
   "source": [
    "connection = mysql.connector.connect(host='', database='', user='', password='', connection_timeout=)\n",
    "cursor=connection.cursor()\n",
    "query32 = \"\"\" SELECT * FROM EMPLEADO WHERE DNI NOT IN (SELECT DISTINCT DNI_ETM FROM PEDIDO);\"\"\"\n",
    "cursor.execute(query32)\n",
    "cursor.fetchall()\n",
    "df32= pd.read_sql(query32, connection)\n",
    "df32\n",
    "\n",
    "##df32.to_csv('listarepartidores.csv', index=False)"
   ]
  },
  {
   "cell_type": "markdown",
   "metadata": {},
   "source": [
    "####  33. Mostrar el nombre del repartidor y la fecha del pedido para los pedidos entregados en el turno de noche."
   ]
  },
  {
   "cell_type": "code",
   "execution_count": 69,
   "metadata": {},
   "outputs": [
    {
     "name": "stderr",
     "output_type": "stream",
     "text": [
      "C:\\Users\\Usuario\\AppData\\Local\\Temp\\ipykernel_13828\\2277251670.py:6: UserWarning: pandas only supports SQLAlchemy connectable (engine/connection) or database string URI or sqlite3 DBAPI2 connection. Other DBAPI2 objects are not tested. Please consider using SQLAlchemy.\n",
      "  df33= pd.read_sql(query33, connection)\n"
     ]
    },
    {
     "data": {
      "text/html": [
       "<div>\n",
       "<style scoped>\n",
       "    .dataframe tbody tr th:only-of-type {\n",
       "        vertical-align: middle;\n",
       "    }\n",
       "\n",
       "    .dataframe tbody tr th {\n",
       "        vertical-align: top;\n",
       "    }\n",
       "\n",
       "    .dataframe thead th {\n",
       "        text-align: right;\n",
       "    }\n",
       "</style>\n",
       "<table border=\"1\" class=\"dataframe\">\n",
       "  <thead>\n",
       "    <tr style=\"text-align: right;\">\n",
       "      <th></th>\n",
       "      <th>Nombre_Repartidor</th>\n",
       "      <th>Fecha_Pedido</th>\n",
       "    </tr>\n",
       "  </thead>\n",
       "  <tbody>\n",
       "    <tr>\n",
       "      <th>0</th>\n",
       "      <td>Laura Jiménez Jiménez</td>\n",
       "      <td>2020-11-10</td>\n",
       "    </tr>\n",
       "    <tr>\n",
       "      <th>1</th>\n",
       "      <td>Laura Jiménez Jiménez</td>\n",
       "      <td>2020-11-15</td>\n",
       "    </tr>\n",
       "    <tr>\n",
       "      <th>2</th>\n",
       "      <td>Juan Pardo Rubio</td>\n",
       "      <td>2020-09-15</td>\n",
       "    </tr>\n",
       "  </tbody>\n",
       "</table>\n",
       "</div>"
      ],
      "text/plain": [
       "       Nombre_Repartidor Fecha_Pedido\n",
       "0  Laura Jiménez Jiménez   2020-11-10\n",
       "1  Laura Jiménez Jiménez   2020-11-15\n",
       "2       Juan Pardo Rubio   2020-09-15"
      ]
     },
     "execution_count": 69,
     "metadata": {},
     "output_type": "execute_result"
    }
   ],
   "source": [
    "connection = mysql.connector.connect(host='', database='', user='', password='', connection_timeout=)\n",
    "cursor=connection.cursor()\n",
    "query33 = \"\"\" SELECT R.Nombre AS Nombre_Repartidor, P.Fecha AS Fecha_Pedido FROM REPARTIDOR R JOIN PEDIDO P ON R.DNI = P.DNI_R WHERE R.Turno = 'noche';\"\"\"\n",
    "cursor.execute(query33)\n",
    "cursor.fetchall()\n",
    "df33= pd.read_sql(query33, connection)\n",
    "df33\n",
    "\n",
    "##df33.to_csv('listarepartidores.csv', index=False)"
   ]
  },
  {
   "cell_type": "markdown",
   "metadata": {},
   "source": [
    "####  34. Obtener el nombre del producto más caro y su precio."
   ]
  },
  {
   "cell_type": "code",
   "execution_count": 70,
   "metadata": {},
   "outputs": [
    {
     "name": "stderr",
     "output_type": "stream",
     "text": [
      "C:\\Users\\Usuario\\AppData\\Local\\Temp\\ipykernel_13828\\1939164485.py:6: UserWarning: pandas only supports SQLAlchemy connectable (engine/connection) or database string URI or sqlite3 DBAPI2 connection. Other DBAPI2 objects are not tested. Please consider using SQLAlchemy.\n",
      "  df34= pd.read_sql(query34, connection)\n"
     ]
    },
    {
     "data": {
      "text/html": [
       "<div>\n",
       "<style scoped>\n",
       "    .dataframe tbody tr th:only-of-type {\n",
       "        vertical-align: middle;\n",
       "    }\n",
       "\n",
       "    .dataframe tbody tr th {\n",
       "        vertical-align: top;\n",
       "    }\n",
       "\n",
       "    .dataframe thead th {\n",
       "        text-align: right;\n",
       "    }\n",
       "</style>\n",
       "<table border=\"1\" class=\"dataframe\">\n",
       "  <thead>\n",
       "    <tr style=\"text-align: right;\">\n",
       "      <th></th>\n",
       "      <th>Nombre</th>\n",
       "      <th>Precio</th>\n",
       "    </tr>\n",
       "  </thead>\n",
       "  <tbody>\n",
       "    <tr>\n",
       "      <th>0</th>\n",
       "      <td>Menú de Hamburguesa con queso</td>\n",
       "      <td>6.0</td>\n",
       "    </tr>\n",
       "    <tr>\n",
       "      <th>1</th>\n",
       "      <td>Menú de Pollo con queso</td>\n",
       "      <td>6.0</td>\n",
       "    </tr>\n",
       "    <tr>\n",
       "      <th>2</th>\n",
       "      <td>Menú de Hamburguesa</td>\n",
       "      <td>6.0</td>\n",
       "    </tr>\n",
       "  </tbody>\n",
       "</table>\n",
       "</div>"
      ],
      "text/plain": [
       "                          Nombre  Precio\n",
       "0  Menú de Hamburguesa con queso     6.0\n",
       "1        Menú de Pollo con queso     6.0\n",
       "2            Menú de Hamburguesa     6.0"
      ]
     },
     "execution_count": 70,
     "metadata": {},
     "output_type": "execute_result"
    }
   ],
   "source": [
    "connection = mysql.connector.connect(host='', database='', user='', password='', connection_timeout=)\n",
    "cursor=connection.cursor()\n",
    "query34 = \"\"\" SELECT Nombre, Precio FROM PRODUCTO WHERE Precio = (SELECT MAX(Precio) FROM PRODUCTO);\"\"\"\n",
    "cursor.execute(query34)\n",
    "cursor.fetchall()\n",
    "df34= pd.read_sql(query34, connection)\n",
    "df34\n",
    "\n",
    "##df34.to_csv('listarepartidores.csv', index=False)"
   ]
  },
  {
   "cell_type": "markdown",
   "metadata": {},
   "source": [
    "####  35. Mostrar el nombre del empleado y el importe total de los pedidos que ha tomado."
   ]
  },
  {
   "cell_type": "code",
   "execution_count": 71,
   "metadata": {},
   "outputs": [
    {
     "name": "stderr",
     "output_type": "stream",
     "text": [
      "C:\\Users\\Usuario\\AppData\\Local\\Temp\\ipykernel_13828\\2445523890.py:6: UserWarning: pandas only supports SQLAlchemy connectable (engine/connection) or database string URI or sqlite3 DBAPI2 connection. Other DBAPI2 objects are not tested. Please consider using SQLAlchemy.\n",
      "  df35= pd.read_sql(query35, connection)\n"
     ]
    },
    {
     "data": {
      "text/html": [
       "<div>\n",
       "<style scoped>\n",
       "    .dataframe tbody tr th:only-of-type {\n",
       "        vertical-align: middle;\n",
       "    }\n",
       "\n",
       "    .dataframe tbody tr th {\n",
       "        vertical-align: top;\n",
       "    }\n",
       "\n",
       "    .dataframe thead th {\n",
       "        text-align: right;\n",
       "    }\n",
       "</style>\n",
       "<table border=\"1\" class=\"dataframe\">\n",
       "  <thead>\n",
       "    <tr style=\"text-align: right;\">\n",
       "      <th></th>\n",
       "      <th>Nombre_Empleado</th>\n",
       "      <th>Importe_Total</th>\n",
       "    </tr>\n",
       "  </thead>\n",
       "  <tbody>\n",
       "    <tr>\n",
       "      <th>0</th>\n",
       "      <td>María Luisa Galdón Ter</td>\n",
       "      <td>17.0</td>\n",
       "    </tr>\n",
       "    <tr>\n",
       "      <th>1</th>\n",
       "      <td>Úrsula Delta Camacho</td>\n",
       "      <td>25.0</td>\n",
       "    </tr>\n",
       "    <tr>\n",
       "      <th>2</th>\n",
       "      <td>Luis Ramírez Pardo</td>\n",
       "      <td>10.0</td>\n",
       "    </tr>\n",
       "    <tr>\n",
       "      <th>3</th>\n",
       "      <td>Sergio Lérida Campos</td>\n",
       "      <td>NaN</td>\n",
       "    </tr>\n",
       "    <tr>\n",
       "      <th>4</th>\n",
       "      <td>Piedad Colmenero Zapillo</td>\n",
       "      <td>37.0</td>\n",
       "    </tr>\n",
       "    <tr>\n",
       "      <th>5</th>\n",
       "      <td>María Sánchez Cid</td>\n",
       "      <td>15.0</td>\n",
       "    </tr>\n",
       "    <tr>\n",
       "      <th>6</th>\n",
       "      <td>Martín Guerrero López</td>\n",
       "      <td>NaN</td>\n",
       "    </tr>\n",
       "    <tr>\n",
       "      <th>7</th>\n",
       "      <td>Carmen Hernández Pío</td>\n",
       "      <td>NaN</td>\n",
       "    </tr>\n",
       "    <tr>\n",
       "      <th>8</th>\n",
       "      <td>Pedro Jiménez Ruiz</td>\n",
       "      <td>13.0</td>\n",
       "    </tr>\n",
       "    <tr>\n",
       "      <th>9</th>\n",
       "      <td>Soledad Campillo Molina</td>\n",
       "      <td>90.0</td>\n",
       "    </tr>\n",
       "    <tr>\n",
       "      <th>10</th>\n",
       "      <td>Raúl Rodrigo Roca</td>\n",
       "      <td>27.0</td>\n",
       "    </tr>\n",
       "  </tbody>\n",
       "</table>\n",
       "</div>"
      ],
      "text/plain": [
       "             Nombre_Empleado  Importe_Total\n",
       "0     María Luisa Galdón Ter           17.0\n",
       "1       Úrsula Delta Camacho           25.0\n",
       "2         Luis Ramírez Pardo           10.0\n",
       "3       Sergio Lérida Campos            NaN\n",
       "4   Piedad Colmenero Zapillo           37.0\n",
       "5          María Sánchez Cid           15.0\n",
       "6      Martín Guerrero López            NaN\n",
       "7       Carmen Hernández Pío            NaN\n",
       "8         Pedro Jiménez Ruiz           13.0\n",
       "9    Soledad Campillo Molina           90.0\n",
       "10         Raúl Rodrigo Roca           27.0"
      ]
     },
     "execution_count": 71,
     "metadata": {},
     "output_type": "execute_result"
    }
   ],
   "source": [
    "connection = mysql.connector.connect(host='', database='', user='', password='', connection_timeout=)\n",
    "cursor=connection.cursor()\n",
    "query35 = \"\"\" SELECT E.Nombre AS Nombre_Empleado, SUM(P.Importe) AS Importe_Total FROM EMPLEADO E LEFT JOIN PEDIDO P ON E.DNI = P.DNI_ETM GROUP BY E.DNI;\"\"\"\n",
    "cursor.execute(query35)\n",
    "cursor.fetchall()\n",
    "df35= pd.read_sql(query35, connection)\n",
    "df35\n",
    "\n",
    "##df35.to_csv('listarepartidores.csv', index=False)"
   ]
  },
  {
   "cell_type": "code",
   "execution_count": null,
   "metadata": {},
   "outputs": [],
   "source": []
  }
 ],
 "metadata": {
  "kernelspec": {
   "display_name": "Python 3",
   "language": "python",
   "name": "python3"
  },
  "language_info": {
   "codemirror_mode": {
    "name": "ipython",
    "version": 3
   },
   "file_extension": ".py",
   "mimetype": "text/x-python",
   "name": "python",
   "nbconvert_exporter": "python",
   "pygments_lexer": "ipython3",
   "version": "3.11.9"
  }
 },
 "nbformat": 4,
 "nbformat_minor": 2
}
